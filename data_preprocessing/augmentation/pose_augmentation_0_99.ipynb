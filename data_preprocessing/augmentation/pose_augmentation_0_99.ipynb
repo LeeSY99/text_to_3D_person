{
  "cells": [
    {
      "cell_type": "code",
      "execution_count": null,
      "metadata": {
        "colab": {
          "base_uri": "https://localhost:8080/"
        },
        "id": "YxpYa5Tt-FXQ",
        "outputId": "d7e034b6-5746-4ad9-de56-c0eb66d5f660"
      },
      "outputs": [
        {
          "output_type": "execute_result",
          "data": {
            "text/plain": [
              "device(type='cuda')"
            ]
          },
          "metadata": {},
          "execution_count": 1
        }
      ],
      "source": [
        "import os\n",
        "import cv2\n",
        "import glob\n",
        "import pickle\n",
        "import time\n",
        "import torch\n",
        "import numpy as np\n",
        "from pathlib import Path\n",
        "from tqdm import tqdm\n",
        "from typing import List, Tuple, Union\n",
        "from argparse import ArgumentParser\n",
        "device = torch.device(\"cuda\" if torch.cuda.is_available() else \"cpu\")\n",
        "device"
      ]
    },
    {
      "cell_type": "code",
      "execution_count": null,
      "metadata": {
        "colab": {
          "base_uri": "https://localhost:8080/"
        },
        "id": "9Q7zlxn7lLZY",
        "outputId": "174c11b9-18b2-471b-d988-261763fe3b19"
      },
      "outputs": [
        {
          "output_type": "stream",
          "name": "stdout",
          "text": [
            "Mounted at /content/drive\n"
          ]
        }
      ],
      "source": [
        "from google.colab import drive\n",
        "drive.mount('/content/drive')"
      ]
    },
    {
      "cell_type": "markdown",
      "source": [
        "#Dataset 준비"
      ],
      "metadata": {
        "id": "TE9eL2fLq152"
      }
    },
    {
      "cell_type": "code",
      "source": [
        "!unzip -qn /content/drive/MyDrive/train_crop.zip -d /content/data/"
      ],
      "metadata": {
        "id": "6v-HWg9RM3RW"
      },
      "execution_count": null,
      "outputs": []
    },
    {
      "cell_type": "markdown",
      "source": [
        "#필요한 패키지 다운"
      ],
      "metadata": {
        "id": "H843Jt_iq4U2"
      }
    },
    {
      "cell_type": "code",
      "execution_count": null,
      "metadata": {
        "colab": {
          "base_uri": "https://localhost:8080/"
        },
        "id": "XHdlwBBP8MQp",
        "outputId": "82f1cfcc-67cb-4703-b8b3-489295ee3f6e"
      },
      "outputs": [
        {
          "output_type": "stream",
          "name": "stdout",
          "text": [
            "Cloning into 'face_detection'...\n",
            "remote: Enumerating objects: 300, done.\u001b[K\n",
            "remote: Counting objects: 100% (50/50), done.\u001b[K\n",
            "remote: Compressing objects: 100% (11/11), done.\u001b[K\n",
            "remote: Total 300 (delta 41), reused 39 (delta 39), pack-reused 250\u001b[K\n",
            "Receiving objects: 100% (300/300), 81.19 MiB | 11.55 MiB/s, done.\n",
            "Resolving deltas: 100% (141/141), done.\n"
          ]
        }
      ],
      "source": [
        "!git clone https://github.com/hhj1897/face_detection.git"
      ]
    },
    {
      "cell_type": "code",
      "execution_count": null,
      "metadata": {
        "colab": {
          "base_uri": "https://localhost:8080/"
        },
        "id": "LPNFr1_S8RD5",
        "outputId": "71ee06f1-99e6-410c-c135-e6026980e873"
      },
      "outputs": [
        {
          "output_type": "stream",
          "name": "stdout",
          "text": [
            "/content/face_detection\n"
          ]
        }
      ],
      "source": [
        "cd face_detection"
      ]
    },
    {
      "cell_type": "code",
      "execution_count": null,
      "metadata": {
        "id": "6kS-jvLF8S-R"
      },
      "outputs": [],
      "source": [
        "!git lfs pull"
      ]
    },
    {
      "cell_type": "code",
      "execution_count": null,
      "metadata": {
        "colab": {
          "base_uri": "https://localhost:8080/"
        },
        "id": "BBwUEFbo8WBI",
        "outputId": "e92ff742-559d-47ac-de03-cd2066aa372b"
      },
      "outputs": [
        {
          "output_type": "stream",
          "name": "stdout",
          "text": [
            "Obtaining file:///content/face_detection\n",
            "  Preparing metadata (setup.py) ... \u001b[?25l\u001b[?25hdone\n",
            "Requirement already satisfied: numpy>=1.16.0 in /usr/local/lib/python3.10/dist-packages (from ibug-face-detection==0.1.0) (1.25.2)\n",
            "Requirement already satisfied: scipy>=1.1.0 in /usr/local/lib/python3.10/dist-packages (from ibug-face-detection==0.1.0) (1.11.4)\n",
            "Requirement already satisfied: torch>=1.1.0 in /usr/local/lib/python3.10/dist-packages (from ibug-face-detection==0.1.0) (2.2.1+cu121)\n",
            "Requirement already satisfied: torchvision>=0.3.0 in /usr/local/lib/python3.10/dist-packages (from ibug-face-detection==0.1.0) (0.17.1+cu121)\n",
            "Requirement already satisfied: opencv-python>=3.4.2 in /usr/local/lib/python3.10/dist-packages (from ibug-face-detection==0.1.0) (4.8.0.76)\n",
            "Requirement already satisfied: filelock in /usr/local/lib/python3.10/dist-packages (from torch>=1.1.0->ibug-face-detection==0.1.0) (3.14.0)\n",
            "Requirement already satisfied: typing-extensions>=4.8.0 in /usr/local/lib/python3.10/dist-packages (from torch>=1.1.0->ibug-face-detection==0.1.0) (4.11.0)\n",
            "Requirement already satisfied: sympy in /usr/local/lib/python3.10/dist-packages (from torch>=1.1.0->ibug-face-detection==0.1.0) (1.12)\n",
            "Requirement already satisfied: networkx in /usr/local/lib/python3.10/dist-packages (from torch>=1.1.0->ibug-face-detection==0.1.0) (3.3)\n",
            "Requirement already satisfied: jinja2 in /usr/local/lib/python3.10/dist-packages (from torch>=1.1.0->ibug-face-detection==0.1.0) (3.1.4)\n",
            "Requirement already satisfied: fsspec in /usr/local/lib/python3.10/dist-packages (from torch>=1.1.0->ibug-face-detection==0.1.0) (2023.6.0)\n",
            "Collecting nvidia-cuda-nvrtc-cu12==12.1.105 (from torch>=1.1.0->ibug-face-detection==0.1.0)\n",
            "  Using cached nvidia_cuda_nvrtc_cu12-12.1.105-py3-none-manylinux1_x86_64.whl (23.7 MB)\n",
            "Collecting nvidia-cuda-runtime-cu12==12.1.105 (from torch>=1.1.0->ibug-face-detection==0.1.0)\n",
            "  Using cached nvidia_cuda_runtime_cu12-12.1.105-py3-none-manylinux1_x86_64.whl (823 kB)\n",
            "Collecting nvidia-cuda-cupti-cu12==12.1.105 (from torch>=1.1.0->ibug-face-detection==0.1.0)\n",
            "  Using cached nvidia_cuda_cupti_cu12-12.1.105-py3-none-manylinux1_x86_64.whl (14.1 MB)\n",
            "Collecting nvidia-cudnn-cu12==8.9.2.26 (from torch>=1.1.0->ibug-face-detection==0.1.0)\n",
            "  Using cached nvidia_cudnn_cu12-8.9.2.26-py3-none-manylinux1_x86_64.whl (731.7 MB)\n",
            "Collecting nvidia-cublas-cu12==12.1.3.1 (from torch>=1.1.0->ibug-face-detection==0.1.0)\n",
            "  Using cached nvidia_cublas_cu12-12.1.3.1-py3-none-manylinux1_x86_64.whl (410.6 MB)\n",
            "Collecting nvidia-cufft-cu12==11.0.2.54 (from torch>=1.1.0->ibug-face-detection==0.1.0)\n",
            "  Using cached nvidia_cufft_cu12-11.0.2.54-py3-none-manylinux1_x86_64.whl (121.6 MB)\n",
            "Collecting nvidia-curand-cu12==10.3.2.106 (from torch>=1.1.0->ibug-face-detection==0.1.0)\n",
            "  Using cached nvidia_curand_cu12-10.3.2.106-py3-none-manylinux1_x86_64.whl (56.5 MB)\n",
            "Collecting nvidia-cusolver-cu12==11.4.5.107 (from torch>=1.1.0->ibug-face-detection==0.1.0)\n",
            "  Using cached nvidia_cusolver_cu12-11.4.5.107-py3-none-manylinux1_x86_64.whl (124.2 MB)\n",
            "Collecting nvidia-cusparse-cu12==12.1.0.106 (from torch>=1.1.0->ibug-face-detection==0.1.0)\n",
            "  Using cached nvidia_cusparse_cu12-12.1.0.106-py3-none-manylinux1_x86_64.whl (196.0 MB)\n",
            "Collecting nvidia-nccl-cu12==2.19.3 (from torch>=1.1.0->ibug-face-detection==0.1.0)\n",
            "  Using cached nvidia_nccl_cu12-2.19.3-py3-none-manylinux1_x86_64.whl (166.0 MB)\n",
            "Collecting nvidia-nvtx-cu12==12.1.105 (from torch>=1.1.0->ibug-face-detection==0.1.0)\n",
            "  Using cached nvidia_nvtx_cu12-12.1.105-py3-none-manylinux1_x86_64.whl (99 kB)\n",
            "Requirement already satisfied: triton==2.2.0 in /usr/local/lib/python3.10/dist-packages (from torch>=1.1.0->ibug-face-detection==0.1.0) (2.2.0)\n",
            "Collecting nvidia-nvjitlink-cu12 (from nvidia-cusolver-cu12==11.4.5.107->torch>=1.1.0->ibug-face-detection==0.1.0)\n",
            "  Using cached nvidia_nvjitlink_cu12-12.4.127-py3-none-manylinux2014_x86_64.whl (21.1 MB)\n",
            "Requirement already satisfied: pillow!=8.3.*,>=5.3.0 in /usr/local/lib/python3.10/dist-packages (from torchvision>=0.3.0->ibug-face-detection==0.1.0) (9.4.0)\n",
            "Requirement already satisfied: MarkupSafe>=2.0 in /usr/local/lib/python3.10/dist-packages (from jinja2->torch>=1.1.0->ibug-face-detection==0.1.0) (2.1.5)\n",
            "Requirement already satisfied: mpmath>=0.19 in /usr/local/lib/python3.10/dist-packages (from sympy->torch>=1.1.0->ibug-face-detection==0.1.0) (1.3.0)\n",
            "Installing collected packages: nvidia-nvtx-cu12, nvidia-nvjitlink-cu12, nvidia-nccl-cu12, nvidia-curand-cu12, nvidia-cufft-cu12, nvidia-cuda-runtime-cu12, nvidia-cuda-nvrtc-cu12, nvidia-cuda-cupti-cu12, nvidia-cublas-cu12, nvidia-cusparse-cu12, nvidia-cudnn-cu12, nvidia-cusolver-cu12, ibug-face-detection\n",
            "  Running setup.py develop for ibug-face-detection\n",
            "Successfully installed ibug-face-detection-0.1.0 nvidia-cublas-cu12-12.1.3.1 nvidia-cuda-cupti-cu12-12.1.105 nvidia-cuda-nvrtc-cu12-12.1.105 nvidia-cuda-runtime-cu12-12.1.105 nvidia-cudnn-cu12-8.9.2.26 nvidia-cufft-cu12-11.0.2.54 nvidia-curand-cu12-10.3.2.106 nvidia-cusolver-cu12-11.4.5.107 nvidia-cusparse-cu12-12.1.0.106 nvidia-nccl-cu12-2.19.3 nvidia-nvjitlink-cu12-12.4.127 nvidia-nvtx-cu12-12.1.105\n"
          ]
        }
      ],
      "source": [
        "pip install -e ."
      ]
    },
    {
      "cell_type": "code",
      "execution_count": null,
      "metadata": {
        "colab": {
          "base_uri": "https://localhost:8080/"
        },
        "id": "0P0XbkBVfLRT",
        "outputId": "935ef664-0519-4199-9ca0-821c5876dd2d"
      },
      "outputs": [
        {
          "output_type": "stream",
          "name": "stdout",
          "text": [
            "/content\n"
          ]
        }
      ],
      "source": [
        "cd .."
      ]
    },
    {
      "cell_type": "code",
      "execution_count": null,
      "metadata": {
        "colab": {
          "base_uri": "https://localhost:8080/"
        },
        "id": "L38PNJGI8aZJ",
        "outputId": "1a505ebe-1fd3-43f4-8dc8-0496c7a965bb"
      },
      "outputs": [
        {
          "output_type": "stream",
          "name": "stdout",
          "text": [
            "Cloning into 'face_alignment'...\n",
            "remote: Enumerating objects: 190, done.\u001b[K\n",
            "remote: Counting objects: 100% (32/32), done.\u001b[K\n",
            "remote: Compressing objects: 100% (6/6), done.\u001b[K\n",
            "remote: Total 190 (delta 27), reused 27 (delta 26), pack-reused 158\u001b[K\n",
            "Receiving objects: 100% (190/190), 213.82 MiB | 12.92 MiB/s, done.\n",
            "Resolving deltas: 100% (84/84), done.\n",
            "Updating files: 100% (14/14), done.\n"
          ]
        }
      ],
      "source": [
        "!git clone https://github.com/hhj1897/face_alignment.git"
      ]
    },
    {
      "cell_type": "code",
      "execution_count": null,
      "metadata": {
        "colab": {
          "base_uri": "https://localhost:8080/"
        },
        "id": "F9r3nr828fHp",
        "outputId": "db8706f3-00cd-49c0-8044-84eea37848f7"
      },
      "outputs": [
        {
          "output_type": "stream",
          "name": "stdout",
          "text": [
            "/content/face_alignment\n"
          ]
        }
      ],
      "source": [
        "cd face_alignment"
      ]
    },
    {
      "cell_type": "code",
      "execution_count": null,
      "metadata": {
        "colab": {
          "base_uri": "https://localhost:8080/"
        },
        "id": "dBxpfVXu8gH5",
        "outputId": "4f0e803e-98ee-4dbe-cc1f-95516c64f501"
      },
      "outputs": [
        {
          "output_type": "stream",
          "name": "stdout",
          "text": [
            "Obtaining file:///content/face_alignment\n",
            "  Preparing metadata (setup.py) ... \u001b[?25l\u001b[?25hdone\n",
            "Requirement already satisfied: numpy>=1.16.0 in /usr/local/lib/python3.10/dist-packages (from ibug-face-alignment==0.1.0) (1.25.2)\n",
            "Requirement already satisfied: torch>=1.1.0 in /usr/local/lib/python3.10/dist-packages (from ibug-face-alignment==0.1.0) (2.2.1+cu121)\n",
            "Requirement already satisfied: opencv-python>=3.4.2 in /usr/local/lib/python3.10/dist-packages (from ibug-face-alignment==0.1.0) (4.8.0.76)\n",
            "Requirement already satisfied: filelock in /usr/local/lib/python3.10/dist-packages (from torch>=1.1.0->ibug-face-alignment==0.1.0) (3.14.0)\n",
            "Requirement already satisfied: typing-extensions>=4.8.0 in /usr/local/lib/python3.10/dist-packages (from torch>=1.1.0->ibug-face-alignment==0.1.0) (4.11.0)\n",
            "Requirement already satisfied: sympy in /usr/local/lib/python3.10/dist-packages (from torch>=1.1.0->ibug-face-alignment==0.1.0) (1.12)\n",
            "Requirement already satisfied: networkx in /usr/local/lib/python3.10/dist-packages (from torch>=1.1.0->ibug-face-alignment==0.1.0) (3.3)\n",
            "Requirement already satisfied: jinja2 in /usr/local/lib/python3.10/dist-packages (from torch>=1.1.0->ibug-face-alignment==0.1.0) (3.1.4)\n",
            "Requirement already satisfied: fsspec in /usr/local/lib/python3.10/dist-packages (from torch>=1.1.0->ibug-face-alignment==0.1.0) (2023.6.0)\n",
            "Requirement already satisfied: nvidia-cuda-nvrtc-cu12==12.1.105 in /usr/local/lib/python3.10/dist-packages (from torch>=1.1.0->ibug-face-alignment==0.1.0) (12.1.105)\n",
            "Requirement already satisfied: nvidia-cuda-runtime-cu12==12.1.105 in /usr/local/lib/python3.10/dist-packages (from torch>=1.1.0->ibug-face-alignment==0.1.0) (12.1.105)\n",
            "Requirement already satisfied: nvidia-cuda-cupti-cu12==12.1.105 in /usr/local/lib/python3.10/dist-packages (from torch>=1.1.0->ibug-face-alignment==0.1.0) (12.1.105)\n",
            "Requirement already satisfied: nvidia-cudnn-cu12==8.9.2.26 in /usr/local/lib/python3.10/dist-packages (from torch>=1.1.0->ibug-face-alignment==0.1.0) (8.9.2.26)\n",
            "Requirement already satisfied: nvidia-cublas-cu12==12.1.3.1 in /usr/local/lib/python3.10/dist-packages (from torch>=1.1.0->ibug-face-alignment==0.1.0) (12.1.3.1)\n",
            "Requirement already satisfied: nvidia-cufft-cu12==11.0.2.54 in /usr/local/lib/python3.10/dist-packages (from torch>=1.1.0->ibug-face-alignment==0.1.0) (11.0.2.54)\n",
            "Requirement already satisfied: nvidia-curand-cu12==10.3.2.106 in /usr/local/lib/python3.10/dist-packages (from torch>=1.1.0->ibug-face-alignment==0.1.0) (10.3.2.106)\n",
            "Requirement already satisfied: nvidia-cusolver-cu12==11.4.5.107 in /usr/local/lib/python3.10/dist-packages (from torch>=1.1.0->ibug-face-alignment==0.1.0) (11.4.5.107)\n",
            "Requirement already satisfied: nvidia-cusparse-cu12==12.1.0.106 in /usr/local/lib/python3.10/dist-packages (from torch>=1.1.0->ibug-face-alignment==0.1.0) (12.1.0.106)\n",
            "Requirement already satisfied: nvidia-nccl-cu12==2.19.3 in /usr/local/lib/python3.10/dist-packages (from torch>=1.1.0->ibug-face-alignment==0.1.0) (2.19.3)\n",
            "Requirement already satisfied: nvidia-nvtx-cu12==12.1.105 in /usr/local/lib/python3.10/dist-packages (from torch>=1.1.0->ibug-face-alignment==0.1.0) (12.1.105)\n",
            "Requirement already satisfied: triton==2.2.0 in /usr/local/lib/python3.10/dist-packages (from torch>=1.1.0->ibug-face-alignment==0.1.0) (2.2.0)\n",
            "Requirement already satisfied: nvidia-nvjitlink-cu12 in /usr/local/lib/python3.10/dist-packages (from nvidia-cusolver-cu12==11.4.5.107->torch>=1.1.0->ibug-face-alignment==0.1.0) (12.4.127)\n",
            "Requirement already satisfied: MarkupSafe>=2.0 in /usr/local/lib/python3.10/dist-packages (from jinja2->torch>=1.1.0->ibug-face-alignment==0.1.0) (2.1.5)\n",
            "Requirement already satisfied: mpmath>=0.19 in /usr/local/lib/python3.10/dist-packages (from sympy->torch>=1.1.0->ibug-face-alignment==0.1.0) (1.3.0)\n",
            "Installing collected packages: ibug-face-alignment\n",
            "  Running setup.py develop for ibug-face-alignment\n",
            "Successfully installed ibug-face-alignment-0.1.0\n"
          ]
        }
      ],
      "source": [
        "pip install -e ."
      ]
    },
    {
      "cell_type": "code",
      "execution_count": null,
      "metadata": {
        "colab": {
          "base_uri": "https://localhost:8080/"
        },
        "id": "x2M3Gf2wgAt4",
        "outputId": "5f64d189-a5ac-4489-e411-60bb64679aa0"
      },
      "outputs": [
        {
          "output_type": "stream",
          "name": "stdout",
          "text": [
            "/content\n"
          ]
        }
      ],
      "source": [
        "cd .."
      ]
    },
    {
      "cell_type": "code",
      "execution_count": null,
      "metadata": {
        "colab": {
          "base_uri": "https://localhost:8080/"
        },
        "id": "I1KFn0uR5ZpU",
        "outputId": "fb560323-686a-4238-b35a-391b91aad3cf"
      },
      "outputs": [
        {
          "output_type": "stream",
          "name": "stdout",
          "text": [
            "Cloning into 'face_pose_augmentation'...\n",
            "remote: Enumerating objects: 479, done.\u001b[K\n",
            "remote: Counting objects: 100% (38/38), done.\u001b[K\n",
            "remote: Compressing objects: 100% (29/29), done.\u001b[K\n",
            "remote: Total 479 (delta 8), reused 26 (delta 6), pack-reused 441\u001b[K\n",
            "Receiving objects: 100% (479/479), 13.27 MiB | 13.68 MiB/s, done.\n",
            "Resolving deltas: 100% (285/285), done.\n",
            "Submodule 'ibug/face_pose_augmentation/tddfa' (https://github.com/cleardusk/3DDFA.git) registered for path 'ibug/face_pose_augmentation/tddfa'\n",
            "Cloning into '/content/face_pose_augmentation/ibug/face_pose_augmentation/tddfa'...\n",
            "remote: Enumerating objects: 797, done.        \n",
            "remote: Counting objects: 100% (6/6), done.        \n",
            "remote: Compressing objects: 100% (6/6), done.        \n",
            "remote: Total 797 (delta 2), reused 2 (delta 0), pack-reused 791        \n",
            "Receiving objects: 100% (797/797), 81.43 MiB | 11.58 MiB/s, done.\n",
            "Resolving deltas: 100% (427/427), done.\n",
            "Submodule path 'ibug/face_pose_augmentation/tddfa': checked out 'd5c1f6a647a89070b1f9ea4e88c910b743a1a87a'\n"
          ]
        }
      ],
      "source": [
        "!git clone --recurse-submodules https://github.com/hhj1897/face_pose_augmentation.git"
      ]
    },
    {
      "cell_type": "code",
      "execution_count": null,
      "metadata": {
        "colab": {
          "base_uri": "https://localhost:8080/"
        },
        "id": "Yrdc6j9A5eHH",
        "outputId": "b604b948-d98c-4cb0-efda-bfd5fdee2980"
      },
      "outputs": [
        {
          "output_type": "stream",
          "name": "stdout",
          "text": [
            "/content/face_pose_augmentation\n"
          ]
        }
      ],
      "source": [
        "cd face_pose_augmentation"
      ]
    },
    {
      "cell_type": "code",
      "execution_count": null,
      "metadata": {
        "colab": {
          "base_uri": "https://localhost:8080/"
        },
        "id": "N_9C4j3054qp",
        "outputId": "42a8f054-2cb9-4179-cc48-70dbd63fff7b"
      },
      "outputs": [
        {
          "output_type": "stream",
          "name": "stdout",
          "text": [
            "Requirement already satisfied: numpy>=1.16.0 in /usr/local/lib/python3.10/dist-packages (from -r requirements.txt (line 1)) (1.25.2)\n",
            "Requirement already satisfied: scipy>=1.1.0 in /usr/local/lib/python3.10/dist-packages (from -r requirements.txt (line 2)) (1.11.4)\n",
            "Requirement already satisfied: torch>=1.1.0 in /usr/local/lib/python3.10/dist-packages (from -r requirements.txt (line 3)) (2.2.1+cu121)\n",
            "Requirement already satisfied: opencv-python>=3.4.2 in /usr/local/lib/python3.10/dist-packages (from -r requirements.txt (line 4)) (4.8.0.76)\n",
            "Requirement already satisfied: cmake>=3.16 in /usr/local/lib/python3.10/dist-packages (from -r requirements.txt (line 5)) (3.27.9)\n",
            "Collecting igraph>=0.8.3 (from -r requirements.txt (line 6))\n",
            "  Downloading igraph-0.11.5-cp39-abi3-manylinux_2_17_x86_64.manylinux2014_x86_64.whl (3.3 MB)\n",
            "\u001b[2K     \u001b[90m━━━━━━━━━━━━━━━━━━━━━━━━━━━━━━━━━━━━━━━━\u001b[0m \u001b[32m3.3/3.3 MB\u001b[0m \u001b[31m42.1 MB/s\u001b[0m eta \u001b[36m0:00:00\u001b[0m\n",
            "\u001b[?25hRequirement already satisfied: matplotlib in /usr/local/lib/python3.10/dist-packages (from -r requirements.txt (line 7)) (3.7.1)\n",
            "Requirement already satisfied: shapely in /usr/local/lib/python3.10/dist-packages (from -r requirements.txt (line 8)) (2.0.4)\n",
            "Requirement already satisfied: cython in /usr/local/lib/python3.10/dist-packages (from -r requirements.txt (line 9)) (3.0.10)\n",
            "Requirement already satisfied: tqdm in /usr/local/lib/python3.10/dist-packages (from -r requirements.txt (line 10)) (4.66.4)\n",
            "Requirement already satisfied: filelock in /usr/local/lib/python3.10/dist-packages (from torch>=1.1.0->-r requirements.txt (line 3)) (3.14.0)\n",
            "Requirement already satisfied: typing-extensions>=4.8.0 in /usr/local/lib/python3.10/dist-packages (from torch>=1.1.0->-r requirements.txt (line 3)) (4.11.0)\n",
            "Requirement already satisfied: sympy in /usr/local/lib/python3.10/dist-packages (from torch>=1.1.0->-r requirements.txt (line 3)) (1.12)\n",
            "Requirement already satisfied: networkx in /usr/local/lib/python3.10/dist-packages (from torch>=1.1.0->-r requirements.txt (line 3)) (3.3)\n",
            "Requirement already satisfied: jinja2 in /usr/local/lib/python3.10/dist-packages (from torch>=1.1.0->-r requirements.txt (line 3)) (3.1.4)\n",
            "Requirement already satisfied: fsspec in /usr/local/lib/python3.10/dist-packages (from torch>=1.1.0->-r requirements.txt (line 3)) (2023.6.0)\n",
            "Requirement already satisfied: nvidia-cuda-nvrtc-cu12==12.1.105 in /usr/local/lib/python3.10/dist-packages (from torch>=1.1.0->-r requirements.txt (line 3)) (12.1.105)\n",
            "Requirement already satisfied: nvidia-cuda-runtime-cu12==12.1.105 in /usr/local/lib/python3.10/dist-packages (from torch>=1.1.0->-r requirements.txt (line 3)) (12.1.105)\n",
            "Requirement already satisfied: nvidia-cuda-cupti-cu12==12.1.105 in /usr/local/lib/python3.10/dist-packages (from torch>=1.1.0->-r requirements.txt (line 3)) (12.1.105)\n",
            "Requirement already satisfied: nvidia-cudnn-cu12==8.9.2.26 in /usr/local/lib/python3.10/dist-packages (from torch>=1.1.0->-r requirements.txt (line 3)) (8.9.2.26)\n",
            "Requirement already satisfied: nvidia-cublas-cu12==12.1.3.1 in /usr/local/lib/python3.10/dist-packages (from torch>=1.1.0->-r requirements.txt (line 3)) (12.1.3.1)\n",
            "Requirement already satisfied: nvidia-cufft-cu12==11.0.2.54 in /usr/local/lib/python3.10/dist-packages (from torch>=1.1.0->-r requirements.txt (line 3)) (11.0.2.54)\n",
            "Requirement already satisfied: nvidia-curand-cu12==10.3.2.106 in /usr/local/lib/python3.10/dist-packages (from torch>=1.1.0->-r requirements.txt (line 3)) (10.3.2.106)\n",
            "Requirement already satisfied: nvidia-cusolver-cu12==11.4.5.107 in /usr/local/lib/python3.10/dist-packages (from torch>=1.1.0->-r requirements.txt (line 3)) (11.4.5.107)\n",
            "Requirement already satisfied: nvidia-cusparse-cu12==12.1.0.106 in /usr/local/lib/python3.10/dist-packages (from torch>=1.1.0->-r requirements.txt (line 3)) (12.1.0.106)\n",
            "Requirement already satisfied: nvidia-nccl-cu12==2.19.3 in /usr/local/lib/python3.10/dist-packages (from torch>=1.1.0->-r requirements.txt (line 3)) (2.19.3)\n",
            "Requirement already satisfied: nvidia-nvtx-cu12==12.1.105 in /usr/local/lib/python3.10/dist-packages (from torch>=1.1.0->-r requirements.txt (line 3)) (12.1.105)\n",
            "Requirement already satisfied: triton==2.2.0 in /usr/local/lib/python3.10/dist-packages (from torch>=1.1.0->-r requirements.txt (line 3)) (2.2.0)\n",
            "Requirement already satisfied: nvidia-nvjitlink-cu12 in /usr/local/lib/python3.10/dist-packages (from nvidia-cusolver-cu12==11.4.5.107->torch>=1.1.0->-r requirements.txt (line 3)) (12.4.127)\n",
            "Collecting texttable>=1.6.2 (from igraph>=0.8.3->-r requirements.txt (line 6))\n",
            "  Downloading texttable-1.7.0-py2.py3-none-any.whl (10 kB)\n",
            "Requirement already satisfied: contourpy>=1.0.1 in /usr/local/lib/python3.10/dist-packages (from matplotlib->-r requirements.txt (line 7)) (1.2.1)\n",
            "Requirement already satisfied: cycler>=0.10 in /usr/local/lib/python3.10/dist-packages (from matplotlib->-r requirements.txt (line 7)) (0.12.1)\n",
            "Requirement already satisfied: fonttools>=4.22.0 in /usr/local/lib/python3.10/dist-packages (from matplotlib->-r requirements.txt (line 7)) (4.51.0)\n",
            "Requirement already satisfied: kiwisolver>=1.0.1 in /usr/local/lib/python3.10/dist-packages (from matplotlib->-r requirements.txt (line 7)) (1.4.5)\n",
            "Requirement already satisfied: packaging>=20.0 in /usr/local/lib/python3.10/dist-packages (from matplotlib->-r requirements.txt (line 7)) (24.0)\n",
            "Requirement already satisfied: pillow>=6.2.0 in /usr/local/lib/python3.10/dist-packages (from matplotlib->-r requirements.txt (line 7)) (9.4.0)\n",
            "Requirement already satisfied: pyparsing>=2.3.1 in /usr/local/lib/python3.10/dist-packages (from matplotlib->-r requirements.txt (line 7)) (3.1.2)\n",
            "Requirement already satisfied: python-dateutil>=2.7 in /usr/local/lib/python3.10/dist-packages (from matplotlib->-r requirements.txt (line 7)) (2.8.2)\n",
            "Requirement already satisfied: six>=1.5 in /usr/local/lib/python3.10/dist-packages (from python-dateutil>=2.7->matplotlib->-r requirements.txt (line 7)) (1.16.0)\n",
            "Requirement already satisfied: MarkupSafe>=2.0 in /usr/local/lib/python3.10/dist-packages (from jinja2->torch>=1.1.0->-r requirements.txt (line 3)) (2.1.5)\n",
            "Requirement already satisfied: mpmath>=0.19 in /usr/local/lib/python3.10/dist-packages (from sympy->torch>=1.1.0->-r requirements.txt (line 3)) (1.3.0)\n",
            "Installing collected packages: texttable, igraph\n",
            "Successfully installed igraph-0.11.5 texttable-1.7.0\n"
          ]
        }
      ],
      "source": [
        "pip install -r requirements.txt"
      ]
    },
    {
      "cell_type": "code",
      "execution_count": null,
      "metadata": {
        "colab": {
          "base_uri": "https://localhost:8080/"
        },
        "id": "rVlb1H6w57Ex",
        "outputId": "c5dff9c5-8481-45af-868a-3ae828176912"
      },
      "outputs": [
        {
          "output_type": "stream",
          "name": "stdout",
          "text": [
            "Obtaining file:///content/face_pose_augmentation\n",
            "  Preparing metadata (setup.py) ... \u001b[?25l\u001b[?25hdone\n",
            "Requirement already satisfied: numpy>=1.16.0 in /usr/local/lib/python3.10/dist-packages (from ibug-face-pose-augmentation==0.1.0) (1.25.2)\n",
            "Requirement already satisfied: scipy>=1.1.0 in /usr/local/lib/python3.10/dist-packages (from ibug-face-pose-augmentation==0.1.0) (1.11.4)\n",
            "Requirement already satisfied: torch>=1.1.0 in /usr/local/lib/python3.10/dist-packages (from ibug-face-pose-augmentation==0.1.0) (2.2.1+cu121)\n",
            "Requirement already satisfied: opencv-python>=3.4.2 in /usr/local/lib/python3.10/dist-packages (from ibug-face-pose-augmentation==0.1.0) (4.8.0.76)\n",
            "Requirement already satisfied: cmake>=3.16 in /usr/local/lib/python3.10/dist-packages (from ibug-face-pose-augmentation==0.1.0) (3.27.9)\n",
            "Requirement already satisfied: igraph>=0.8.3 in /usr/local/lib/python3.10/dist-packages (from ibug-face-pose-augmentation==0.1.0) (0.11.5)\n",
            "Requirement already satisfied: matplotlib in /usr/local/lib/python3.10/dist-packages (from ibug-face-pose-augmentation==0.1.0) (3.7.1)\n",
            "Requirement already satisfied: shapely in /usr/local/lib/python3.10/dist-packages (from ibug-face-pose-augmentation==0.1.0) (2.0.4)\n",
            "Requirement already satisfied: cython in /usr/local/lib/python3.10/dist-packages (from ibug-face-pose-augmentation==0.1.0) (3.0.10)\n",
            "Requirement already satisfied: texttable>=1.6.2 in /usr/local/lib/python3.10/dist-packages (from igraph>=0.8.3->ibug-face-pose-augmentation==0.1.0) (1.7.0)\n",
            "Requirement already satisfied: filelock in /usr/local/lib/python3.10/dist-packages (from torch>=1.1.0->ibug-face-pose-augmentation==0.1.0) (3.14.0)\n",
            "Requirement already satisfied: typing-extensions>=4.8.0 in /usr/local/lib/python3.10/dist-packages (from torch>=1.1.0->ibug-face-pose-augmentation==0.1.0) (4.11.0)\n",
            "Requirement already satisfied: sympy in /usr/local/lib/python3.10/dist-packages (from torch>=1.1.0->ibug-face-pose-augmentation==0.1.0) (1.12)\n",
            "Requirement already satisfied: networkx in /usr/local/lib/python3.10/dist-packages (from torch>=1.1.0->ibug-face-pose-augmentation==0.1.0) (3.3)\n",
            "Requirement already satisfied: jinja2 in /usr/local/lib/python3.10/dist-packages (from torch>=1.1.0->ibug-face-pose-augmentation==0.1.0) (3.1.4)\n",
            "Requirement already satisfied: fsspec in /usr/local/lib/python3.10/dist-packages (from torch>=1.1.0->ibug-face-pose-augmentation==0.1.0) (2023.6.0)\n",
            "Requirement already satisfied: nvidia-cuda-nvrtc-cu12==12.1.105 in /usr/local/lib/python3.10/dist-packages (from torch>=1.1.0->ibug-face-pose-augmentation==0.1.0) (12.1.105)\n",
            "Requirement already satisfied: nvidia-cuda-runtime-cu12==12.1.105 in /usr/local/lib/python3.10/dist-packages (from torch>=1.1.0->ibug-face-pose-augmentation==0.1.0) (12.1.105)\n",
            "Requirement already satisfied: nvidia-cuda-cupti-cu12==12.1.105 in /usr/local/lib/python3.10/dist-packages (from torch>=1.1.0->ibug-face-pose-augmentation==0.1.0) (12.1.105)\n",
            "Requirement already satisfied: nvidia-cudnn-cu12==8.9.2.26 in /usr/local/lib/python3.10/dist-packages (from torch>=1.1.0->ibug-face-pose-augmentation==0.1.0) (8.9.2.26)\n",
            "Requirement already satisfied: nvidia-cublas-cu12==12.1.3.1 in /usr/local/lib/python3.10/dist-packages (from torch>=1.1.0->ibug-face-pose-augmentation==0.1.0) (12.1.3.1)\n",
            "Requirement already satisfied: nvidia-cufft-cu12==11.0.2.54 in /usr/local/lib/python3.10/dist-packages (from torch>=1.1.0->ibug-face-pose-augmentation==0.1.0) (11.0.2.54)\n",
            "Requirement already satisfied: nvidia-curand-cu12==10.3.2.106 in /usr/local/lib/python3.10/dist-packages (from torch>=1.1.0->ibug-face-pose-augmentation==0.1.0) (10.3.2.106)\n",
            "Requirement already satisfied: nvidia-cusolver-cu12==11.4.5.107 in /usr/local/lib/python3.10/dist-packages (from torch>=1.1.0->ibug-face-pose-augmentation==0.1.0) (11.4.5.107)\n",
            "Requirement already satisfied: nvidia-cusparse-cu12==12.1.0.106 in /usr/local/lib/python3.10/dist-packages (from torch>=1.1.0->ibug-face-pose-augmentation==0.1.0) (12.1.0.106)\n",
            "Requirement already satisfied: nvidia-nccl-cu12==2.19.3 in /usr/local/lib/python3.10/dist-packages (from torch>=1.1.0->ibug-face-pose-augmentation==0.1.0) (2.19.3)\n",
            "Requirement already satisfied: nvidia-nvtx-cu12==12.1.105 in /usr/local/lib/python3.10/dist-packages (from torch>=1.1.0->ibug-face-pose-augmentation==0.1.0) (12.1.105)\n",
            "Requirement already satisfied: triton==2.2.0 in /usr/local/lib/python3.10/dist-packages (from torch>=1.1.0->ibug-face-pose-augmentation==0.1.0) (2.2.0)\n",
            "Requirement already satisfied: nvidia-nvjitlink-cu12 in /usr/local/lib/python3.10/dist-packages (from nvidia-cusolver-cu12==11.4.5.107->torch>=1.1.0->ibug-face-pose-augmentation==0.1.0) (12.4.127)\n",
            "Requirement already satisfied: contourpy>=1.0.1 in /usr/local/lib/python3.10/dist-packages (from matplotlib->ibug-face-pose-augmentation==0.1.0) (1.2.1)\n",
            "Requirement already satisfied: cycler>=0.10 in /usr/local/lib/python3.10/dist-packages (from matplotlib->ibug-face-pose-augmentation==0.1.0) (0.12.1)\n",
            "Requirement already satisfied: fonttools>=4.22.0 in /usr/local/lib/python3.10/dist-packages (from matplotlib->ibug-face-pose-augmentation==0.1.0) (4.51.0)\n",
            "Requirement already satisfied: kiwisolver>=1.0.1 in /usr/local/lib/python3.10/dist-packages (from matplotlib->ibug-face-pose-augmentation==0.1.0) (1.4.5)\n",
            "Requirement already satisfied: packaging>=20.0 in /usr/local/lib/python3.10/dist-packages (from matplotlib->ibug-face-pose-augmentation==0.1.0) (24.0)\n",
            "Requirement already satisfied: pillow>=6.2.0 in /usr/local/lib/python3.10/dist-packages (from matplotlib->ibug-face-pose-augmentation==0.1.0) (9.4.0)\n",
            "Requirement already satisfied: pyparsing>=2.3.1 in /usr/local/lib/python3.10/dist-packages (from matplotlib->ibug-face-pose-augmentation==0.1.0) (3.1.2)\n",
            "Requirement already satisfied: python-dateutil>=2.7 in /usr/local/lib/python3.10/dist-packages (from matplotlib->ibug-face-pose-augmentation==0.1.0) (2.8.2)\n",
            "Requirement already satisfied: six>=1.5 in /usr/local/lib/python3.10/dist-packages (from python-dateutil>=2.7->matplotlib->ibug-face-pose-augmentation==0.1.0) (1.16.0)\n",
            "Requirement already satisfied: MarkupSafe>=2.0 in /usr/local/lib/python3.10/dist-packages (from jinja2->torch>=1.1.0->ibug-face-pose-augmentation==0.1.0) (2.1.5)\n",
            "Requirement already satisfied: mpmath>=0.19 in /usr/local/lib/python3.10/dist-packages (from sympy->torch>=1.1.0->ibug-face-pose-augmentation==0.1.0) (1.3.0)\n",
            "Installing collected packages: ibug-face-pose-augmentation\n",
            "  Running setup.py develop for ibug-face-pose-augmentation\n",
            "Successfully installed ibug-face-pose-augmentation-0.1.0\n"
          ]
        }
      ],
      "source": [
        "pip install -e ."
      ]
    },
    {
      "cell_type": "code",
      "execution_count": null,
      "metadata": {
        "colab": {
          "base_uri": "https://localhost:8080/"
        },
        "id": "7NrNYO1Wmmae",
        "outputId": "51fec425-1c24-4672-dd39-e456d591351f"
      },
      "outputs": [
        {
          "output_type": "stream",
          "name": "stdout",
          "text": [
            "/content\n"
          ]
        }
      ],
      "source": [
        "cd .."
      ]
    },
    {
      "cell_type": "markdown",
      "source": [
        "#Pose Augmentation"
      ],
      "metadata": {
        "id": "8kIUDvWcrfiJ"
      }
    },
    {
      "cell_type": "code",
      "execution_count": null,
      "metadata": {
        "id": "eud1rUb6c0sI"
      },
      "outputs": [],
      "source": [
        "from face_alignment.ibug.face_alignment import FANPredictor\n",
        "from face_detection.ibug.face_detection import RetinaFacePredictor\n",
        "from face_alignment.ibug.face_alignment.utils import plot_landmarks\n",
        "from face_pose_augmentation.ibug.face_pose_augmentation import TDDFAPredictor, FacePoseAugmentor\n",
        "\n",
        "def detect_face(\n",
        "    image: np.ndarray,\n",
        "    face_detector: RetinaFacePredictor,\n",
        "    landmark_detector: FANPredictor,\n",
        ") -> Tuple[Union[np.ndarray, None], Union[np.ndarray, None]]:\n",
        "    # Face and landmark detection\n",
        "    faces = face_detector(image, rgb=False)\n",
        "    landmarks, scores = landmark_detector(image, faces, rgb=False)\n",
        "\n",
        "    # Try to select a face\n",
        "    face_sizes = [(bbox[2] - bbox[0]) * (bbox[3] - bbox[1]) if scs.min() >= 0.2 else -1\n",
        "                    for bbox, scs in zip(faces, scores)]\n",
        "    selected_face = np.argmin(face_sizes) if len(face_sizes) > 0 and min(face_sizes) > 0 else -1\n",
        "\n",
        "    return landmarks[selected_face] if selected_face >= 0 else None\n",
        "\n",
        "\n",
        "def augment_face_pose(\n",
        "    tddfa: TDDFAPredictor,\n",
        "    augmentor: FacePoseAugmentor,\n",
        "    image: np.ndarray,\n",
        "    landmarks: np.ndarray,\n",
        "    delta_pose: np.ndarray, # poses are in degrees\n",
        ") -> int:\n",
        "    # Apply 3DDFA\n",
        "    tddfa_result = TDDFAPredictor.decode(tddfa(image, landmarks, rgb=False))[0]\n",
        "    pitch, yaw, roll = np.array([tddfa_result['face_pose'][k] for k in ('pitch', 'yaw', 'roll')]) / np.pi * 180.0\n",
        "\n",
        "    # Determine delta poses\n",
        "    delta_pose = delta_pose / 180.0 * np.pi\n",
        "\n",
        "    # Pose augmentation\n",
        "    augmentation_results = augmentor(image, tddfa_result, delta_pose, landmarks)\n",
        "\n",
        "    return augmentation_results[0]\n"
      ]
    },
    {
      "cell_type": "code",
      "execution_count": null,
      "metadata": {
        "colab": {
          "base_uri": "https://localhost:8080/"
        },
        "id": "vQ0jXHe4dP4p",
        "outputId": "e0d6c13a-db78-4bbd-b4cc-00d1e5d5612c"
      },
      "outputs": [
        {
          "output_type": "stream",
          "name": "stdout",
          "text": [
            "3DDFA initialised.\n",
            "Face pose augmentor created.\n"
          ]
        }
      ],
      "source": [
        "face_detector = RetinaFacePredictor(\n",
        "    threshold=0.99, device='cuda:0',\n",
        "    model=RetinaFacePredictor.get_model('resnet50'))\n",
        "\n",
        "# Create a facial landmark detector\n",
        "landmark_detector = FANPredictor(\n",
        "    device='cuda:0', model=FANPredictor.get_model('2dfan2_alt'))\n",
        "\n",
        "tddfa = TDDFAPredictor(device='cuda:0')\n",
        "print('3DDFA initialised.')\n",
        "augmentor = FacePoseAugmentor()\n",
        "print('Face pose augmentor created.')\n"
      ]
    },
    {
      "cell_type": "markdown",
      "source": [
        "##감정별 적용"
      ],
      "metadata": {
        "id": "0M0_VYVXrzmM"
      }
    },
    {
      "cell_type": "code",
      "execution_count": null,
      "metadata": {
        "id": "4tVSKqylc0po"
      },
      "outputs": [],
      "source": [
        "i=1\n",
        "image_folder='/content/data/anger_crop'\n",
        "image_files=sorted(glob.glob(os.path.join(image_folder,'*')))\n",
        "output_folder='/content/train/anger'\n",
        "os.makedirs(output_folder, exist_ok=True)\n",
        "\n",
        "delta_poses = np.array([\n",
        "    # [[20, 0, 0]],\n",
        "    [[-20, 0, 0]],\n",
        "    [[0, 20, 0]],\n",
        "    [[0, -20, 0]],\n",
        "    [[0, 0, 20]],\n",
        "    # [[0, 0, -20]]\n",
        "])  # pitch, yaw, roll 순서\n",
        "for delta_pose in delta_poses:\n",
        "  for image_fi in tqdm(image_files):\n",
        "      try:\n",
        "        image = cv2.imread(image_fi)\n",
        "      except:\n",
        "        print('이미지 로드 실패', image_fi)\n",
        "        break\n",
        "        continue\n",
        "\n",
        "      landmarks = detect_face(image, face_detector, landmark_detector)\n",
        "      if landmarks is None:\n",
        "        print('Failed to detect landmarks from ',image_fi)\n",
        "        continue\n",
        "\n",
        "      result = augment_face_pose(tddfa, augmentor, image, landmarks, delta_pose)\n",
        "\n",
        "      if \"correspondence_map\" in result:\n",
        "        del result[\"correspondence_map\"]\n",
        "\n",
        "      filename=f'anger{i:05}.jpg'\n",
        "      warped_image = result[\"warped_image\"].copy()\n",
        "      cv2.imwrite(os.path.join(output_folder, filename), warped_image)\n",
        "      del result[\"warped_image\"]\n",
        "      # pickle.dump(result, open(os.path.join(output_folder, Path(filename).stem+'.pkl'),'wb'))\n",
        "      i+=1\n",
        "\n",
        "  print(f'{delta_pose} done.')"
      ]
    },
    {
      "cell_type": "code",
      "execution_count": null,
      "metadata": {
        "colab": {
          "background_save": true
        },
        "id": "GZeOlvVYc0m4"
      },
      "outputs": [],
      "source": [
        "i=1\n",
        "image_folder='/content/drive/MyDrive/train/happy'\n",
        "image_files=sorted(glob.glob(os.path.join(image_folder,'*')))\n",
        "output_folder='/content/drive/MyDrive/aug/happy'\n",
        "os.makedirs(output_folder, exist_ok=True)\n",
        "\n",
        "delta_poses = np.array([\n",
        "    [[20, 0, 0]],\n",
        "    [[-20, 0, 0]],\n",
        "    # [[0, 20, 0]],\n",
        "    [[0, -20, 0]],\n",
        "    [[0, 0, 20]],\n",
        "    # [[0, 0, -20]]\n",
        "])  # pitch, yaw, roll 순서\n",
        "for delta_pose in delta_poses:\n",
        "  for j,image_fi in enumerate(tqdm(image_files)):\n",
        "      try:\n",
        "          image = cv2.imread(image_fi)\n",
        "      except:\n",
        "          print('이미지 로드 실패', image_fi)\n",
        "          continue\n",
        "\n",
        "      landmarks = detect_face(image, face_detector, landmark_detector)\n",
        "      if landmarks is None:\n",
        "          print('Failed to detect landmarks from ',image_fi)\n",
        "          continue\n",
        "\n",
        "      result = augment_face_pose(tddfa, augmentor, image, landmarks, delta_pose)\n",
        "\n",
        "      if \"correspondence_map\" in result:\n",
        "          del result[\"correspondence_map\"]\n",
        "\n",
        "      filename=f'happy{i:05}.jpg'\n",
        "      warped_image = result[\"warped_image\"].copy()\n",
        "      cv2.imwrite(os.path.join(output_folder, filename), warped_image)\n",
        "      del result[\"warped_image\"]\n",
        "      # pickle.dump(result, open(os.path.join(output_folder, Path(filename).stem+'.pkl'),'wb'))\n",
        "      i+=1\n",
        "  print(f'{delta_pose} done')\n",
        "\n",
        "print('All done.')"
      ]
    },
    {
      "cell_type": "code",
      "execution_count": null,
      "metadata": {
        "id": "65bxzyoHtvM7"
      },
      "outputs": [],
      "source": [
        "i=1\n",
        "image_folder='/content/drive/MyDrive/train/panic'\n",
        "image_files=sorted(glob.glob(os.path.join(image_folder,'*')))\n",
        "output_folder='/content/drive/MyDrive/aug/panic'\n",
        "os.makedirs(output_folder, exist_ok=True)\n",
        "\n",
        "delta_poses = np.array([\n",
        "    [[20, 0, 0]],\n",
        "    [[-20, 0, 0]],\n",
        "    # [[0, 20, 0]],\n",
        "    [[0, -20, 0]],\n",
        "    [[0, 0, 20]],\n",
        "    # [[0, 0, -20]]\n",
        "])  # pitch, yaw, roll 순서\n",
        "for delta_pose in delta_poses:\n",
        "  for image_fi in tqdm(image_files):\n",
        "      try:\n",
        "          image = cv2.imread(image_fi)\n",
        "      except:\n",
        "          print('이미지 로드 실패', image_fi)\n",
        "          continue\n",
        "\n",
        "      landmarks = detect_face(image, face_detector, landmark_detector)\n",
        "      if landmarks is None:\n",
        "          print('Failed to detect landmarks from ',image_fi)\n",
        "          continue\n",
        "\n",
        "      result = augment_face_pose(tddfa, augmentor, image, landmarks, delta_pose)\n",
        "\n",
        "      if \"correspondence_map\" in result:\n",
        "          del result[\"correspondence_map\"]\n",
        "\n",
        "      filename=f'panic{i:05}.jpg'\n",
        "      warped_image = result[\"warped_image\"].copy()\n",
        "      cv2.imwrite(os.path.join(output_folder, filename), warped_image)\n",
        "      del result[\"warped_image\"]\n",
        "      # pickle.dump(result, open(os.path.join(output_folder, Path(filename).stem+'.pkl'),'wb'))\n",
        "      i+=1\n",
        "  print(f'{delta_pose} done')\n",
        "\n",
        "print('All done.')"
      ]
    },
    {
      "cell_type": "code",
      "execution_count": null,
      "metadata": {
        "id": "kNpfeNkRt4Zz"
      },
      "outputs": [],
      "source": [
        "i=1\n",
        "image_folder='/content/drive/MyDrive/train/sadness'\n",
        "image_files=sorted(glob.glob(os.path.join(image_folder,'*')))\n",
        "output_folder='/content/drive/MyDrive/aug/sadness'\n",
        "os.makedirs(output_folder, exist_ok=True)\n",
        "\n",
        "delta_poses = np.array([\n",
        "    [[20, 0, 0]],\n",
        "    [[-20, 0, 0]],\n",
        "    # [[0, 20, 0]],\n",
        "    [[0, -20, 0]],\n",
        "    [[0, 0, 20]],\n",
        "    # [[0, 0, -20]]\n",
        "])  # pitch, yaw, roll 순서\n",
        "for delta_pose in delta_poses:\n",
        "  for image_fi in tqdm(image_files):\n",
        "      try:\n",
        "          image = cv2.imread(image_fi)\n",
        "      except:\n",
        "          print('이미지 로드 실패', image_fi)\n",
        "          continue\n",
        "\n",
        "      landmarks = detect_face(image, face_detector, landmark_detector)\n",
        "      if landmarks is None:\n",
        "          print('Failed to detect landmarks from ',image_fi)\n",
        "          continue\n",
        "\n",
        "      result = augment_face_pose(tddfa, augmentor, image, landmarks, delta_pose)\n",
        "\n",
        "      if \"correspondence_map\" in result:\n",
        "          del result[\"correspondence_map\"]\n",
        "\n",
        "      filename=f'sadness{i:05}.jpg'\n",
        "      warped_image = result[\"warped_image\"].copy()\n",
        "      cv2.imwrite(os.path.join(output_folder, filename), warped_image)\n",
        "      del result[\"warped_image\"]\n",
        "      # pickle.dump(result, open(os.path.join(output_folder, Path(filename).stem+'.pkl'),'wb'))\n",
        "      i+=1\n",
        "  print(f'{delta_pose} done')\n",
        "\n",
        "print('All done.')"
      ]
    }
  ],
  "metadata": {
    "accelerator": "GPU",
    "colab": {
      "machine_shape": "hm",
      "provenance": [],
      "gpuType": "A100"
    },
    "kernelspec": {
      "display_name": "Python 3",
      "name": "python3"
    },
    "language_info": {
      "name": "python"
    }
  },
  "nbformat": 4,
  "nbformat_minor": 0
}