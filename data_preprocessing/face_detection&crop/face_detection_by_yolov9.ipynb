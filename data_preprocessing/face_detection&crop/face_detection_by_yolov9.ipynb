{
  "cells": [
    {
      "cell_type": "markdown",
      "source": [
        "# 패키지 다운로드\n",
        "\n"
      ],
      "metadata": {
        "id": "mS9Bjqs_v2GS"
      }
    },
    {
      "cell_type": "code",
      "execution_count": null,
      "metadata": {
        "id": "wwia_cNsZt8I"
      },
      "outputs": [],
      "source": [
        "!git clone https://github.com/SkalskiP/yolov9.git\n",
        "%cd yolov9\n",
        "!pip install -r requirements.txt -q\n",
        "%cd .."
      ]
    },
    {
      "cell_type": "code",
      "execution_count": null,
      "metadata": {
        "id": "5HYSz2EcyGla"
      },
      "outputs": [],
      "source": [
        "!curl -L \"https://app.roboflow.com/ds/hbLVCIk6aR?key=1uvz3LHps9\" > roboflow.zip; unzip roboflow.zip; rm roboflow.zip"
      ]
    },
    {
      "cell_type": "code",
      "execution_count": null,
      "metadata": {
        "id": "DzqEkSgoE-eW"
      },
      "outputs": [],
      "source": [
        "!curl -L \"https://app.roboflow.com/ds/TzHo1WxqKa?key=8cz4Al2kWl\" > roboflow.zip; unzip roboflow.zip; rm roboflow.zip"
      ]
    },
    {
      "cell_type": "code",
      "execution_count": null,
      "metadata": {
        "id": "GuQEFVDlQFrl"
      },
      "outputs": [],
      "source": [
        "!curl -L \"https://app.roboflow.com/ds/f77SnQFQbu?key=cJODvBt9p9\" > roboflow.zip; unzip roboflow.zip; rm roboflow.zip"
      ]
    },
    {
      "cell_type": "code",
      "execution_count": null,
      "metadata": {
        "id": "MgNVnOC6s9Ro"
      },
      "outputs": [],
      "source": [
        "!wget -P \"./weights\" -q https://github.com/WongKinYiu/yolov9/releases/download/v0.1/yolov9-c.pt\n",
        "!wget -P \"./weights\" -q https://github.com/WongKinYiu/yolov9/releases/download/v0.1/yolov9-e.pt\n",
        "!wget -P \"./weights\" -q https://github.com/WongKinYiu/yolov9/releases/download/v0.1/gelan-c.pt\n",
        "!wget -P \"./weights\" -q https://github.com/WongKinYiu/yolov9/releases/download/v0.1/gelan-e.pt"
      ]
    },
    {
      "cell_type": "markdown",
      "source": [
        "#Train"
      ],
      "metadata": {
        "id": "FzWIy1fav4h6"
      }
    },
    {
      "cell_type": "code",
      "execution_count": null,
      "metadata": {
        "colab": {
          "base_uri": "https://localhost:8080/"
        },
        "id": "hLVNp4botfPu",
        "outputId": "8c23cfc5-0185-455a-f4e9-b626c5b666ff"
      },
      "outputs": [
        {
          "name": "stdout",
          "output_type": "stream",
          "text": [
            "2024-05-27 00:55:45.279122: E external/local_xla/xla/stream_executor/cuda/cuda_dnn.cc:9261] Unable to register cuDNN factory: Attempting to register factory for plugin cuDNN when one has already been registered\n",
            "2024-05-27 00:55:45.279191: E external/local_xla/xla/stream_executor/cuda/cuda_fft.cc:607] Unable to register cuFFT factory: Attempting to register factory for plugin cuFFT when one has already been registered\n",
            "2024-05-27 00:55:45.281203: E external/local_xla/xla/stream_executor/cuda/cuda_blas.cc:1515] Unable to register cuBLAS factory: Attempting to register factory for plugin cuBLAS when one has already been registered\n",
            "2024-05-27 00:55:45.292558: I tensorflow/core/platform/cpu_feature_guard.cc:182] This TensorFlow binary is optimized to use available CPU instructions in performance-critical operations.\n",
            "To enable the following instructions: AVX2 AVX512F FMA, in other operations, rebuild TensorFlow with the appropriate compiler flags.\n",
            "2024-05-27 00:55:47.113907: W tensorflow/compiler/tf2tensorrt/utils/py_utils.cc:38] TF-TRT Warning: Could not find TensorRT\n",
            "\u001b[34m\u001b[1mtrain: \u001b[0mweights=./weights/gelan-c.pt, cfg=yolov9/models/detect/gelan-c.yaml, data=/content/data.yaml, hyp=hyp.scratch-high.yaml, epochs=30, batch_size=16, imgsz=640, rect=False, resume=False, nosave=False, noval=False, noautoanchor=False, noplots=False, evolve=None, bucket=, cache=None, image_weights=False, device=0, multi_scale=False, single_cls=False, optimizer=SGD, sync_bn=False, workers=8, project=yolov9/runs/train, name=exp, exist_ok=False, quad=False, cos_lr=False, flat_cos_lr=False, fixed_lr=False, label_smoothing=0.0, patience=100, freeze=[0], save_period=-1, seed=0, local_rank=-1, min_items=0, close_mosaic=15, entity=None, upload_dataset=False, bbox_interval=-1, artifact_alias=latest\n",
            "YOLOv5 🚀 1e33dbb Python-3.10.12 torch-2.3.0+cu121 CUDA:0 (Tesla T4, 15102MiB)\n",
            "\n",
            "\u001b[34m\u001b[1mhyperparameters: \u001b[0mlr0=0.01, lrf=0.01, momentum=0.937, weight_decay=0.0005, warmup_epochs=3.0, warmup_momentum=0.8, warmup_bias_lr=0.1, box=7.5, cls=0.5, cls_pw=1.0, dfl=1.5, obj_pw=1.0, iou_t=0.2, anchor_t=5.0, fl_gamma=0.0, hsv_h=0.015, hsv_s=0.7, hsv_v=0.4, degrees=0.0, translate=0.1, scale=0.9, shear=0.0, perspective=0.0, flipud=0.0, fliplr=0.5, mosaic=1.0, mixup=0.15, copy_paste=0.3\n",
            "\u001b[34m\u001b[1mClearML: \u001b[0mrun 'pip install clearml' to automatically track, visualize and remotely train YOLO 🚀 in ClearML\n",
            "\u001b[34m\u001b[1mComet: \u001b[0mrun 'pip install comet_ml' to automatically track and visualize YOLO 🚀 runs in Comet\n",
            "\u001b[34m\u001b[1mTensorBoard: \u001b[0mStart with 'tensorboard --logdir yolov9/runs/train', view at http://localhost:6006/\n",
            "Overriding model.yaml nc=80 with nc=1\n",
            "\n",
            "                 from  n    params  module                                  arguments                     \n",
            "  0                -1  1      1856  models.common.Conv                      [3, 64, 3, 2]                 \n",
            "  1                -1  1     73984  models.common.Conv                      [64, 128, 3, 2]               \n",
            "  2                -1  1    212864  models.common.RepNCSPELAN4              [128, 256, 128, 64, 1]        \n",
            "  3                -1  1    164352  models.common.ADown                     [256, 256]                    \n",
            "  4                -1  1    847616  models.common.RepNCSPELAN4              [256, 512, 256, 128, 1]       \n",
            "  5                -1  1    656384  models.common.ADown                     [512, 512]                    \n",
            "  6                -1  1   2857472  models.common.RepNCSPELAN4              [512, 512, 512, 256, 1]       \n",
            "  7                -1  1    656384  models.common.ADown                     [512, 512]                    \n",
            "  8                -1  1   2857472  models.common.RepNCSPELAN4              [512, 512, 512, 256, 1]       \n",
            "  9                -1  1    656896  models.common.SPPELAN                   [512, 512, 256]               \n",
            " 10                -1  1         0  torch.nn.modules.upsampling.Upsample    [None, 2, 'nearest']          \n",
            " 11           [-1, 6]  1         0  models.common.Concat                    [1]                           \n",
            " 12                -1  1   3119616  models.common.RepNCSPELAN4              [1024, 512, 512, 256, 1]      \n",
            " 13                -1  1         0  torch.nn.modules.upsampling.Upsample    [None, 2, 'nearest']          \n",
            " 14           [-1, 4]  1         0  models.common.Concat                    [1]                           \n",
            " 15                -1  1    912640  models.common.RepNCSPELAN4              [1024, 256, 256, 128, 1]      \n",
            " 16                -1  1    164352  models.common.ADown                     [256, 256]                    \n",
            " 17          [-1, 12]  1         0  models.common.Concat                    [1]                           \n",
            " 18                -1  1   2988544  models.common.RepNCSPELAN4              [768, 512, 512, 256, 1]       \n",
            " 19                -1  1    656384  models.common.ADown                     [512, 512]                    \n",
            " 20           [-1, 9]  1         0  models.common.Concat                    [1]                           \n",
            " 21                -1  1   3119616  models.common.RepNCSPELAN4              [1024, 512, 512, 256, 1]      \n",
            " 22      [15, 18, 21]  1   5491411  models.yolo.DDetect                     [1, [256, 512, 512]]          \n",
            "gelan-c summary: 621 layers, 25437843 parameters, 25437827 gradients, 103.2 GFLOPs\n",
            "\n",
            "Transferred 931/937 items from weights/gelan-c.pt\n",
            "\u001b[34m\u001b[1mAMP: \u001b[0mchecks passed ✅\n",
            "\u001b[34m\u001b[1moptimizer:\u001b[0m SGD(lr=0.01) with parameter groups 154 weight(decay=0.0), 161 weight(decay=0.0005), 160 bias\n",
            "\u001b[34m\u001b[1malbumentations: \u001b[0mBlur(p=0.01, blur_limit=(3, 7)), MedianBlur(p=0.01, blur_limit=(3, 7)), ToGray(p=0.01), CLAHE(p=0.01, clip_limit=(1, 4.0), tile_grid_size=(8, 8))\n",
            "\u001b[34m\u001b[1mtrain: \u001b[0mScanning /content/train/labels.cache... 5985 images, 2 backgrounds, 0 corrupt: 100% 5985/5985 [00:00<?, ?it/s]\n",
            "\u001b[34m\u001b[1mval: \u001b[0mScanning /content/valid/labels.cache... 1200 images, 0 backgrounds, 0 corrupt: 100% 1200/1200 [00:00<?, ?it/s]\n",
            "/usr/lib/python3.10/multiprocessing/popen_fork.py:66: RuntimeWarning: os.fork() was called. os.fork() is incompatible with multithreaded code, and JAX is multithreaded, so this will likely lead to a deadlock.\n",
            "  self.pid = os.fork()\n",
            "Plotting labels to yolov9/runs/train/exp2/labels.jpg... \n",
            "Image sizes 640 train, 640 val\n",
            "Using 2 dataloader workers\n",
            "Logging results to \u001b[1myolov9/runs/train/exp2\u001b[0m\n",
            "Starting training for 30 epochs...\n",
            "/usr/lib/python3.10/multiprocessing/popen_fork.py:66: RuntimeWarning: os.fork() was called. os.fork() is incompatible with multithreaded code, and JAX is multithreaded, so this will likely lead to a deadlock.\n",
            "  self.pid = os.fork()\n",
            "\n",
            "      Epoch    GPU_mem   box_loss   cls_loss   dfl_loss  Instances       Size\n",
            "       0/29      11.3G     0.8649     0.6934      1.241          1        640: 100% 375/375 [05:52<00:00,  1.06it/s]\n",
            "                 Class     Images  Instances          P          R      mAP50   mAP50-95: 100% 38/38 [00:29<00:00,  1.28it/s]\n",
            "                   all       1200       1200      0.924      0.991      0.988      0.804\n",
            "/usr/lib/python3.10/multiprocessing/popen_fork.py:66: RuntimeWarning: os.fork() was called. os.fork() is incompatible with multithreaded code, and JAX is multithreaded, so this will likely lead to a deadlock.\n",
            "  self.pid = os.fork()\n",
            "\n",
            "      Epoch    GPU_mem   box_loss   cls_loss   dfl_loss  Instances       Size\n",
            "       1/29      13.4G      0.771     0.4216      1.122          4        640: 100% 375/375 [05:32<00:00,  1.13it/s]\n",
            "                 Class     Images  Instances          P          R      mAP50   mAP50-95: 100% 38/38 [00:29<00:00,  1.31it/s]\n",
            "                   all       1200       1200      0.987      0.997      0.993       0.82\n",
            "\n",
            "      Epoch    GPU_mem   box_loss   cls_loss   dfl_loss  Instances       Size\n",
            "       2/29      13.4G     0.8134      0.494      1.151          3        640: 100% 375/375 [05:34<00:00,  1.12it/s]\n",
            "                 Class     Images  Instances          P          R      mAP50   mAP50-95: 100% 38/38 [00:30<00:00,  1.26it/s]\n",
            "                   all       1200       1200      0.992      0.995      0.994      0.824\n",
            "\n",
            "      Epoch    GPU_mem   box_loss   cls_loss   dfl_loss  Instances       Size\n",
            "       3/29      13.4G     0.8367     0.5111      1.161          0        640: 100% 375/375 [05:30<00:00,  1.13it/s]\n",
            "                 Class     Images  Instances          P          R      mAP50   mAP50-95: 100% 38/38 [00:29<00:00,  1.30it/s]\n",
            "                   all       1200       1200      0.997      0.997      0.993      0.825\n",
            "\n",
            "      Epoch    GPU_mem   box_loss   cls_loss   dfl_loss  Instances       Size\n",
            "       4/29      13.4G     0.8183     0.4845      1.158          1        640: 100% 375/375 [05:33<00:00,  1.12it/s]\n",
            "                 Class     Images  Instances          P          R      mAP50   mAP50-95: 100% 38/38 [00:28<00:00,  1.35it/s]\n",
            "                   all       1200       1200      0.998      0.998      0.994      0.835\n",
            "\n",
            "      Epoch    GPU_mem   box_loss   cls_loss   dfl_loss  Instances       Size\n",
            "       5/29      13.4G     0.7989     0.4634      1.144          3        640: 100% 375/375 [05:32<00:00,  1.13it/s]\n",
            "                 Class     Images  Instances          P          R      mAP50   mAP50-95: 100% 38/38 [00:28<00:00,  1.32it/s]\n",
            "                   all       1200       1200      0.997      0.998      0.994      0.827\n",
            "\n",
            "      Epoch    GPU_mem   box_loss   cls_loss   dfl_loss  Instances       Size\n",
            "       6/29      13.4G     0.7812      0.443      1.132          1        640: 100% 375/375 [05:32<00:00,  1.13it/s]\n",
            "                 Class     Images  Instances          P          R      mAP50   mAP50-95: 100% 38/38 [00:28<00:00,  1.33it/s]\n",
            "                   all       1200       1200      0.992      0.998      0.994       0.84\n",
            "\n",
            "      Epoch    GPU_mem   box_loss   cls_loss   dfl_loss  Instances       Size\n",
            "       7/29      13.4G     0.7679     0.4245      1.121          0        640: 100% 375/375 [05:31<00:00,  1.13it/s]\n",
            "                 Class     Images  Instances          P          R      mAP50   mAP50-95: 100% 38/38 [00:28<00:00,  1.31it/s]\n",
            "                   all       1200       1200      0.994      0.998      0.994      0.839\n",
            "\n",
            "      Epoch    GPU_mem   box_loss   cls_loss   dfl_loss  Instances       Size\n",
            "       8/29      13.4G     0.7525     0.4116      1.108          1        640: 100% 375/375 [05:36<00:00,  1.11it/s]\n",
            "                 Class     Images  Instances          P          R      mAP50   mAP50-95: 100% 38/38 [00:28<00:00,  1.34it/s]\n",
            "                   all       1200       1200      0.994      0.998      0.993      0.843\n",
            "\n",
            "      Epoch    GPU_mem   box_loss   cls_loss   dfl_loss  Instances       Size\n",
            "       9/29      13.4G     0.7474     0.4015      1.107          4        640: 100% 375/375 [05:29<00:00,  1.14it/s]\n",
            "                 Class     Images  Instances          P          R      mAP50   mAP50-95: 100% 38/38 [00:27<00:00,  1.37it/s]\n",
            "                   all       1200       1200      0.997      0.998      0.993      0.856\n",
            "\n",
            "      Epoch    GPU_mem   box_loss   cls_loss   dfl_loss  Instances       Size\n",
            "      10/29      13.4G     0.7323     0.3928      1.104          4        640: 100% 375/375 [05:38<00:00,  1.11it/s]\n",
            "                 Class     Images  Instances          P          R      mAP50   mAP50-95: 100% 38/38 [00:29<00:00,  1.28it/s]\n",
            "                   all       1200       1200      0.998      0.998      0.994      0.855\n",
            "\n",
            "      Epoch    GPU_mem   box_loss   cls_loss   dfl_loss  Instances       Size\n",
            "      11/29      13.4G     0.7308      0.385      1.099          4        640: 100% 375/375 [05:35<00:00,  1.12it/s]\n",
            "                 Class     Images  Instances          P          R      mAP50   mAP50-95: 100% 38/38 [00:27<00:00,  1.36it/s]\n",
            "                   all       1200       1200      0.998      0.997      0.994      0.851\n",
            "\n",
            "      Epoch    GPU_mem   box_loss   cls_loss   dfl_loss  Instances       Size\n",
            "      12/29      13.4G     0.7242     0.3741       1.09          3        640: 100% 375/375 [05:32<00:00,  1.13it/s]\n",
            "                 Class     Images  Instances          P          R      mAP50   mAP50-95: 100% 38/38 [00:28<00:00,  1.33it/s]\n",
            "                   all       1200       1200      0.996      0.998      0.994      0.853\n",
            "\n",
            "      Epoch    GPU_mem   box_loss   cls_loss   dfl_loss  Instances       Size\n",
            "      13/29      13.4G     0.7187     0.3646      1.091          2        640: 100% 375/375 [05:32<00:00,  1.13it/s]\n",
            "                 Class     Images  Instances          P          R      mAP50   mAP50-95: 100% 38/38 [00:28<00:00,  1.34it/s]\n",
            "                   all       1200       1200      0.998      0.998      0.994      0.863\n",
            "\n",
            "      Epoch    GPU_mem   box_loss   cls_loss   dfl_loss  Instances       Size\n",
            "      14/29      13.4G     0.7069      0.355      1.087          4        640: 100% 375/375 [05:32<00:00,  1.13it/s]\n",
            "                 Class     Images  Instances          P          R      mAP50   mAP50-95: 100% 38/38 [00:29<00:00,  1.30it/s]\n",
            "                   all       1200       1200      0.998      0.998      0.994      0.858\n",
            "Closing dataloader mosaic\n",
            "\n",
            "      Epoch    GPU_mem   box_loss   cls_loss   dfl_loss  Instances       Size\n",
            "      15/29      13.4G     0.6218     0.2893      1.099          1        640: 100% 375/375 [04:45<00:00,  1.31it/s]\n",
            "                 Class     Images  Instances          P          R      mAP50   mAP50-95: 100% 38/38 [00:29<00:00,  1.29it/s]\n",
            "                   all       1200       1200      0.998      0.998      0.994      0.861\n",
            "\n",
            "      Epoch    GPU_mem   box_loss   cls_loss   dfl_loss  Instances       Size\n",
            "      16/29      13.4G     0.6154     0.2846      1.079          1        640: 100% 375/375 [04:44<00:00,  1.32it/s]\n",
            "                 Class     Images  Instances          P          R      mAP50   mAP50-95: 100% 38/38 [00:28<00:00,  1.32it/s]\n",
            "                   all       1200       1200      0.997      0.998      0.994       0.88\n",
            "\n",
            "      Epoch    GPU_mem   box_loss   cls_loss   dfl_loss  Instances       Size\n",
            "      17/29      13.4G      0.607     0.2776      1.085          1        640: 100% 375/375 [04:45<00:00,  1.31it/s]\n",
            "                 Class     Images  Instances          P          R      mAP50   mAP50-95: 100% 38/38 [00:28<00:00,  1.31it/s]\n",
            "                   all       1200       1200      0.998      0.998      0.993      0.879\n",
            "\n",
            "      Epoch    GPU_mem   box_loss   cls_loss   dfl_loss  Instances       Size\n",
            "      18/29      13.4G     0.6056     0.2714      1.075          1        640: 100% 375/375 [04:44<00:00,  1.32it/s]\n",
            "                 Class     Images  Instances          P          R      mAP50   mAP50-95: 100% 38/38 [00:29<00:00,  1.28it/s]\n",
            "                   all       1200       1200      0.997      0.997      0.994      0.877\n",
            "\n",
            "      Epoch    GPU_mem   box_loss   cls_loss   dfl_loss  Instances       Size\n",
            "      19/29      13.4G      0.595     0.2645      1.074          1        640: 100% 375/375 [04:44<00:00,  1.32it/s]\n",
            "                 Class     Images  Instances          P          R      mAP50   mAP50-95: 100% 38/38 [00:27<00:00,  1.38it/s]\n",
            "                   all       1200       1200      0.998      0.998      0.994      0.879\n",
            "\n",
            "      Epoch    GPU_mem   box_loss   cls_loss   dfl_loss  Instances       Size\n",
            "      20/29      13.4G     0.5978     0.2617      1.059          1        640: 100% 375/375 [04:45<00:00,  1.31it/s]\n",
            "                 Class     Images  Instances          P          R      mAP50   mAP50-95: 100% 38/38 [00:29<00:00,  1.30it/s]\n",
            "                   all       1200       1200      0.998      0.998      0.994      0.879\n",
            "\n",
            "      Epoch    GPU_mem   box_loss   cls_loss   dfl_loss  Instances       Size\n",
            "      21/29      13.4G     0.5855     0.2518      1.054          1        640: 100% 375/375 [04:44<00:00,  1.32it/s]\n",
            "                 Class     Images  Instances          P          R      mAP50   mAP50-95: 100% 38/38 [00:28<00:00,  1.33it/s]\n",
            "                   all       1200       1200      0.998      0.998      0.993      0.875\n",
            "\n",
            "      Epoch    GPU_mem   box_loss   cls_loss   dfl_loss  Instances       Size\n",
            "      22/29      13.4G     0.5847     0.2547      1.056          1        640: 100% 375/375 [04:45<00:00,  1.31it/s]\n",
            "                 Class     Images  Instances          P          R      mAP50   mAP50-95: 100% 38/38 [00:27<00:00,  1.36it/s]\n",
            "                   all       1200       1200      0.998      0.998      0.994      0.878\n",
            "\n",
            "      Epoch    GPU_mem   box_loss   cls_loss   dfl_loss  Instances       Size\n",
            "      23/29      13.4G     0.5763     0.2462      1.051          1        640: 100% 375/375 [04:45<00:00,  1.31it/s]\n",
            "                 Class     Images  Instances          P          R      mAP50   mAP50-95: 100% 38/38 [00:28<00:00,  1.32it/s]\n",
            "                   all       1200       1200      0.998      0.998      0.994      0.882\n",
            "\n",
            "      Epoch    GPU_mem   box_loss   cls_loss   dfl_loss  Instances       Size\n",
            "      24/29      13.4G     0.5736     0.2391      1.059          1        640: 100% 375/375 [04:44<00:00,  1.32it/s]\n",
            "                 Class     Images  Instances          P          R      mAP50   mAP50-95: 100% 38/38 [00:27<00:00,  1.37it/s]\n",
            "                   all       1200       1200      0.998      0.998      0.994      0.885\n",
            "\n",
            "      Epoch    GPU_mem   box_loss   cls_loss   dfl_loss  Instances       Size\n",
            "      25/29      13.4G     0.5716     0.2372       1.05          1        640: 100% 375/375 [04:45<00:00,  1.32it/s]\n",
            "                 Class     Images  Instances          P          R      mAP50   mAP50-95: 100% 38/38 [00:28<00:00,  1.33it/s]\n",
            "                   all       1200       1200      0.998      0.998      0.993      0.885\n",
            "\n",
            "      Epoch    GPU_mem   box_loss   cls_loss   dfl_loss  Instances       Size\n",
            "      26/29      13.4G     0.5624     0.2295       1.05          1        640: 100% 375/375 [04:45<00:00,  1.31it/s]\n",
            "                 Class     Images  Instances          P          R      mAP50   mAP50-95: 100% 38/38 [00:28<00:00,  1.35it/s]\n",
            "                   all       1200       1200      0.998      0.998      0.994      0.884\n",
            "\n",
            "      Epoch    GPU_mem   box_loss   cls_loss   dfl_loss  Instances       Size\n",
            "      27/29      13.4G     0.5566     0.2243      1.052          1        640: 100% 375/375 [04:45<00:00,  1.31it/s]\n",
            "                 Class     Images  Instances          P          R      mAP50   mAP50-95: 100% 38/38 [00:29<00:00,  1.29it/s]\n",
            "                   all       1200       1200      0.998      0.998      0.993      0.885\n",
            "\n",
            "      Epoch    GPU_mem   box_loss   cls_loss   dfl_loss  Instances       Size\n",
            "      28/29      13.4G     0.5551     0.2223      1.039          1        640: 100% 375/375 [04:45<00:00,  1.31it/s]\n",
            "                 Class     Images  Instances          P          R      mAP50   mAP50-95: 100% 38/38 [00:28<00:00,  1.33it/s]\n",
            "                   all       1200       1200      0.998      0.998      0.994      0.887\n",
            "\n",
            "      Epoch    GPU_mem   box_loss   cls_loss   dfl_loss  Instances       Size\n",
            "      29/29      13.4G     0.5494      0.216      1.039          1        640: 100% 375/375 [04:45<00:00,  1.31it/s]\n",
            "                 Class     Images  Instances          P          R      mAP50   mAP50-95: 100% 38/38 [00:27<00:00,  1.36it/s]\n",
            "                   all       1200       1200      0.998      0.998      0.994      0.888\n",
            "\n",
            "30 epochs completed in 2.849 hours.\n",
            "Optimizer stripped from yolov9/runs/train/exp2/weights/last.pt, saved as yolov9/runs/train/exp2/weights/last_striped.pt, 51.5MB\n",
            "Optimizer stripped from yolov9/runs/train/exp2/weights/best.pt, saved as yolov9/runs/train/exp2/weights/best_striped.pt, 51.5MB\n",
            "\n",
            "Validating yolov9/runs/train/exp2/weights/best.pt...\n",
            "Fusing layers... \n",
            "gelan-c summary: 467 layers, 25411731 parameters, 0 gradients, 102.5 GFLOPs\n",
            "                 Class     Images  Instances          P          R      mAP50   mAP50-95: 100% 38/38 [00:32<00:00,  1.17it/s]\n",
            "                   all       1200       1200      0.998      0.998      0.994      0.888\n",
            "Results saved to \u001b[1myolov9/runs/train/exp2\u001b[0m\n"
          ]
        }
      ],
      "source": [
        "!python yolov9/train.py \\\n",
        "--batch 16 --epochs 30 --img 640 --device 0 --min-items 0 --close-mosaic 15 \\\n",
        "--data '/content/data.yaml' \\\n",
        "--weights './weights/gelan-c.pt' \\\n",
        "--cfg yolov9/models/detect/gelan-c.yaml \\\n",
        "--hyp hyp.scratch-high.yaml"
      ]
    },
    {
      "cell_type": "code",
      "execution_count": null,
      "metadata": {
        "id": "6ygbc45g8wYk"
      },
      "outputs": [],
      "source": [
        "%load_ext tensorboard\n",
        "%tensorboard --logdir /content/yolov9/runs/"
      ]
    },
    {
      "cell_type": "code",
      "execution_count": null,
      "metadata": {
        "id": "ZBud_6CuuKzI"
      },
      "outputs": [],
      "source": [
        "!cp -r /content/yolov9/runs /content/drive/MyDrive/yolov9_result2"
      ]
    },
    {
      "cell_type": "markdown",
      "source": [
        "# face-Detection 적용"
      ],
      "metadata": {
        "id": "noyI9h_bv-wy"
      }
    },
    {
      "cell_type": "code",
      "source": [
        "import zipfile\n",
        "import os\n",
        "\n",
        "# 압축 파일 경로\n",
        "zip_file_path = \"/content/drive/MyDrive/aug/anger-aug.zip\" #경로 바꿔가며 적용\n",
        "\n",
        "# 압축 파일을 열고 해제\n",
        "with zipfile.ZipFile(zip_file_path, 'r') as zip_ref:\n",
        "    zip_ref.extractall()\n",
        "\n",
        "print(\"압축 해제가 완료되었습니다.\")"
      ],
      "metadata": {
        "id": "KnKqh4Cr7qKq",
        "colab": {
          "base_uri": "https://localhost:8080/"
        },
        "outputId": "8260742f-fe93-4787-f2c8-42ad923416d6"
      },
      "execution_count": null,
      "outputs": [
        {
          "output_type": "stream",
          "name": "stdout",
          "text": [
            "압축 해제가 완료되었습니다.\n"
          ]
        }
      ]
    },
    {
      "cell_type": "code",
      "source": [
        "rm -r /content/yolov9/runs/detect/exp"
      ],
      "metadata": {
        "id": "ElgUmoeiQRhb"
      },
      "execution_count": null,
      "outputs": []
    },
    {
      "cell_type": "code",
      "execution_count": null,
      "metadata": {
        "id": "Wh0hhkpDg_C1"
      },
      "outputs": [],
      "source": [
        "!python yolov9/detect.py  --img 640 --conf 0.001 --device 0 \\\n",
        "--weights '/content/drive/MyDrive/yolov9_result2/runs/train/exp2/weights/best.pt' \\\n",
        "--exist-ok  --source '/content/anger' --save-crop --save-txt\n"
      ]
    },
    {
      "cell_type": "code",
      "source": [
        "import numpy as np\n",
        "import os\n",
        "import glob\n",
        "import cv2\n",
        "from tqdm import tqdm"
      ],
      "metadata": {
        "id": "emRH3hpHHQn-"
      },
      "execution_count": null,
      "outputs": []
    },
    {
      "cell_type": "code",
      "execution_count": null,
      "metadata": {
        "id": "nP4FVAE2k_Dz"
      },
      "outputs": [],
      "source": [
        "from IPython.display import Image\n",
        "import os\n",
        "import glob\n",
        "val_img_list = glob.glob('/content/drive/MyDrive/aug/anger/*')\n",
        "with open('val_img_list.txt', 'w') as f:\n",
        "    for img_path in val_img_list:\n",
        "        f.write(f\"{img_path}\\n\")\n",
        "# val_img_list\n",
        "# val_img_path = val_img_list[:3]"
      ]
    },
    {
      "cell_type": "code",
      "execution_count": null,
      "metadata": {
        "id": "_R8nl7wguiIZ",
        "colab": {
          "base_uri": "https://localhost:8080/"
        },
        "outputId": "086cbe40-4cd3-46c1-b638-71533845bbe0"
      },
      "outputs": [
        {
          "output_type": "stream",
          "name": "stdout",
          "text": [
            "폴더가 성공적으로 압축되었습니다.\n"
          ]
        }
      ],
      "source": [
        "import shutil\n",
        "import os\n",
        "\n",
        "# 압축할 폴더 경로\n",
        "folder_to_zip = \"/content/yolov9/runs/detect/exp/crops/face\"\n",
        "# 압축된 파일의 경로와 이름\n",
        "output_zip_file = \"/content/drive/MyDrive/anger_cropped_face.zip\"\n",
        "\n",
        "# 폴더를 압축\n",
        "shutil.make_archive(output_zip_file.split('.')[0], 'zip', folder_to_zip)\n",
        "\n",
        "print(\"폴더가 성공적으로 압축되었습니다.\")\n",
        "\n",
        "# 압축된 파일을 다운로드할 수 있도록 링크 생성\n",
        "# from google.colab import files\n",
        "# files.download(output_zip_file)"
      ]
    },
    {
      "cell_type": "code",
      "source": [
        "# 압축할 폴더 경로\n",
        "folder_to_zip = \"/content/yolov9/runs/detect/exp/labels\"\n",
        "# 압축된 파일의 경로와 이름\n",
        "output_zip_file = \"/content/anger_labels.zip\"\n",
        "\n",
        "# 폴더를 압축\n",
        "shutil.make_archive(output_zip_file.split('.')[0], 'zip', folder_to_zip)\n",
        "\n",
        "print(\"폴더가 성공적으로 압축되었습니다.\")\n",
        "\n",
        "# 압축된 파일을 다운로드할 수 있도록 링크 생성\n",
        "from google.colab import files\n",
        "files.download(output_zip_file)"
      ],
      "metadata": {
        "colab": {
          "base_uri": "https://localhost:8080/",
          "height": 36
        },
        "id": "aOE4OBjPM5vh",
        "outputId": "0882dc37-28c9-405e-93fa-333d549da12a"
      },
      "execution_count": null,
      "outputs": [
        {
          "output_type": "stream",
          "name": "stdout",
          "text": [
            "폴더가 성공적으로 압축되었습니다.\n"
          ]
        },
        {
          "output_type": "display_data",
          "data": {
            "text/plain": [
              "<IPython.core.display.Javascript object>"
            ],
            "application/javascript": [
              "\n",
              "    async function download(id, filename, size) {\n",
              "      if (!google.colab.kernel.accessAllowed) {\n",
              "        return;\n",
              "      }\n",
              "      const div = document.createElement('div');\n",
              "      const label = document.createElement('label');\n",
              "      label.textContent = `Downloading \"${filename}\": `;\n",
              "      div.appendChild(label);\n",
              "      const progress = document.createElement('progress');\n",
              "      progress.max = size;\n",
              "      div.appendChild(progress);\n",
              "      document.body.appendChild(div);\n",
              "\n",
              "      const buffers = [];\n",
              "      let downloaded = 0;\n",
              "\n",
              "      const channel = await google.colab.kernel.comms.open(id);\n",
              "      // Send a message to notify the kernel that we're ready.\n",
              "      channel.send({})\n",
              "\n",
              "      for await (const message of channel.messages) {\n",
              "        // Send a message to notify the kernel that we're ready.\n",
              "        channel.send({})\n",
              "        if (message.buffers) {\n",
              "          for (const buffer of message.buffers) {\n",
              "            buffers.push(buffer);\n",
              "            downloaded += buffer.byteLength;\n",
              "            progress.value = downloaded;\n",
              "          }\n",
              "        }\n",
              "      }\n",
              "      const blob = new Blob(buffers, {type: 'application/binary'});\n",
              "      const a = document.createElement('a');\n",
              "      a.href = window.URL.createObjectURL(blob);\n",
              "      a.download = filename;\n",
              "      div.appendChild(a);\n",
              "      a.click();\n",
              "      div.remove();\n",
              "    }\n",
              "  "
            ]
          },
          "metadata": {}
        },
        {
          "output_type": "display_data",
          "data": {
            "text/plain": [
              "<IPython.core.display.Javascript object>"
            ],
            "application/javascript": [
              "download(\"download_b8165f81-a701-4b46-b0bf-adae1b5b4d0a\", \"anger_labels.zip\", 664450)"
            ]
          },
          "metadata": {}
        }
      ]
    },
    {
      "cell_type": "code",
      "source": [],
      "metadata": {
        "id": "kiIGrx0TzO9a"
      },
      "execution_count": null,
      "outputs": []
    }
  ],
  "metadata": {
    "accelerator": "GPU",
    "colab": {
      "gpuType": "T4",
      "provenance": []
    },
    "kernelspec": {
      "display_name": "Python 3",
      "name": "python3"
    },
    "language_info": {
      "name": "python"
    }
  },
  "nbformat": 4,
  "nbformat_minor": 0
}