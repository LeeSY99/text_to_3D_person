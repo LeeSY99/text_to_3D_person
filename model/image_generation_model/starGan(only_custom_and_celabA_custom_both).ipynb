version https://git-lfs.github.com/spec/v1
oid sha256:834f4150534694843dc8ac8c72b8226a0de43ae64e48ace8adeb6aad3b4cc966
size 5575990
