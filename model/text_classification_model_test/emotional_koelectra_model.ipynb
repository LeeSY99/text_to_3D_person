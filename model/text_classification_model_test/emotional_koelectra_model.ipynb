version https://git-lfs.github.com/spec/v1
oid sha256:16533ef297a78d09012af0d7aaa5b845e9dba9eeedad41c61971d8bfb4add9c7
size 1802229
