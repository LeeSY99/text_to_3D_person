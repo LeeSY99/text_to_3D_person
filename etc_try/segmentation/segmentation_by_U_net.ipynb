{
  "nbformat": 4,
  "nbformat_minor": 0,
  "metadata": {
    "colab": {
      "provenance": [],
      "gpuType": "T4"
    },
    "kernelspec": {
      "name": "python3",
      "display_name": "Python 3"
    },
    "language_info": {
      "name": "python"
    },
    "accelerator": "GPU"
  },
  "cells": [
    {
      "cell_type": "code",
      "execution_count": null,
      "metadata": {
        "colab": {
          "base_uri": "https://localhost:8080/"
        },
        "id": "ifEH5yIet7ei",
        "outputId": "febf8535-67ee-45cc-ad2c-5a690b1556c2"
      },
      "outputs": [
        {
          "output_type": "stream",
          "name": "stdout",
          "text": [
            "Drive already mounted at /content/drive; to attempt to forcibly remount, call drive.mount(\"/content/drive\", force_remount=True).\n"
          ]
        }
      ],
      "source": [
        "from google.colab import drive\n",
        "drive.mount('/content/drive')"
      ]
    },
    {
      "cell_type": "code",
      "execution_count": null,
      "metadata": {
        "id": "rgQI8JKVvTSh"
      },
      "outputs": [],
      "source": [
        "!pip install -q -U segmentation-models-pytorch albumentations > /dev/null\n",
        "import segmentation_models_pytorch as smp"
      ]
    },
    {
      "cell_type": "code",
      "execution_count": null,
      "metadata": {
        "id": "xcHC4ADmwK5s"
      },
      "outputs": [],
      "source": [
        "from torchsummary import summary\n",
        "import torch\n",
        "import torch.nn as nn\n",
        "import torch.optim as optim\n",
        "from torch.utils.data import Dataset, DataLoader, ConcatDataset\n",
        "from torchvision import transforms\n",
        "from PIL import Image\n",
        "import os\n",
        "import numpy as np\n",
        "import cv2\n",
        "from tqdm import tqdm"
      ]
    },
    {
      "cell_type": "code",
      "source": [
        "device = torch.device(\"cuda\" if torch.cuda.is_available() else \"cpu\")\n",
        "device"
      ],
      "metadata": {
        "colab": {
          "base_uri": "https://localhost:8080/"
        },
        "id": "JxZ73OTm5MNC",
        "outputId": "1f9f082e-edd8-4875-a065-4b45320d64d3"
      },
      "execution_count": null,
      "outputs": [
        {
          "output_type": "execute_result",
          "data": {
            "text/plain": [
              "device(type='cuda')"
            ]
          },
          "metadata": {},
          "execution_count": 4
        }
      ]
    },
    {
      "cell_type": "code",
      "source": [
        "model = smp.UnetPlusPlus(encoder_name='resnet101', classes=6, activation='softmax').to(device)"
      ],
      "metadata": {
        "id": "8EdZTme85NUX"
      },
      "execution_count": null,
      "outputs": []
    },
    {
      "cell_type": "code",
      "source": [
        "# print(model)"
      ],
      "metadata": {
        "id": "pjRDd0Lz5bvP"
      },
      "execution_count": null,
      "outputs": []
    },
    {
      "cell_type": "code",
      "execution_count": null,
      "metadata": {
        "id": "_NCdbOtKuQ8w"
      },
      "outputs": [],
      "source": [
        "torch.manual_seed(42)\n",
        "np.random.seed(42)"
      ]
    },
    {
      "cell_type": "code",
      "execution_count": null,
      "metadata": {
        "id": "0c0OZlJ0hsYH"
      },
      "outputs": [],
      "source": [
        "train_anger_dir='/content/drive/MyDrive/train/anger'\n",
        "train_happy_dir='/content/drive/MyDrive/train/happy'\n",
        "train_panic_dir='/content/drive/MyDrive/train/panic'\n",
        "train_sadness_dir='/content/drive/MyDrive/train/sadness'\n",
        "val_anger_dir='/content/drive/MyDrive/val/anger'\n",
        "val_happy_dir='/content/drive/MyDrive/val/happy'\n",
        "val_panic_dir='/content/drive/MyDrive/val/panic'\n",
        "val_sadness_dir='/content/drive/MyDrive/val/sadness'"
      ]
    },
    {
      "cell_type": "code",
      "execution_count": null,
      "metadata": {
        "id": "30UO_MIoyeL6"
      },
      "outputs": [],
      "source": [
        "anger_npz_file = np.load('/content/drive/MyDrive/segmentation/train/train_anger.npz')\n",
        "happy_npz_file = np.load('/content/drive/MyDrive/segmentation/train/train_happy.npz')\n",
        "panic_npz_file = np.load('/content/drive/MyDrive/segmentation/train/train_panic.npz')\n",
        "sadness_npz_file = np.load('/content/drive/MyDrive/segmentation/train/train_sadness.npz')\n",
        "val_anger_npz_file = np.load('/content/drive/MyDrive/segmentation/val/val_anger.npz')\n",
        "val_happy_npz_file = np.load('/content/drive/MyDrive/segmentation/val/val_happy.npz')\n",
        "val_panic_npz_file = np.load('/content/drive/MyDrive/segmentation/val/val_panic.npz')\n",
        "val_sadness_npz_file = np.load('/content/drive/MyDrive/segmentation/val/val_sadness.npz')"
      ]
    },
    {
      "cell_type": "code",
      "execution_count": null,
      "metadata": {
        "id": "pTfv2-xK30Sd"
      },
      "outputs": [],
      "source": [
        "class CustomSegmentationDataset(Dataset):\n",
        "    def __init__(self, image_dir, mask_npz_file, transform=None, mask_transform=None):\n",
        "        self.image_dir = image_dir\n",
        "        self.mask_npz_file = mask_npz_file\n",
        "        self.transform = transform\n",
        "        self.mask_transform = mask_transform\n",
        "        self.image_files = os.listdir(self.image_dir)\n",
        "\n",
        "    def __len__(self):\n",
        "        return len(self.image_files)\n",
        "\n",
        "    def __getitem__(self, idx):\n",
        "        image_file = self.image_files[idx]\n",
        "        image_path = os.path.join(self.image_dir, image_file)\n",
        "        image=cv2.imread(image_path)\n",
        "        image = cv2.cvtColor(image, cv2.COLOR_BGR2RGB)\n",
        "        image = Image.fromarray(image)\n",
        "        mask = self.mask_npz_file[image_file]\n",
        "\n",
        "        # 마스크를 PIL 이미지로 변환\n",
        "        mask = Image.fromarray(mask)\n",
        "\n",
        "        image = self.transform(image)\n",
        "        mask = self.mask_transform(mask)\n",
        "\n",
        "        return image, mask.squeeze(0)"
      ]
    },
    {
      "cell_type": "code",
      "execution_count": null,
      "metadata": {
        "id": "I6TnuxPGj74H"
      },
      "outputs": [],
      "source": [
        "resize_size = (512, 512)\n",
        "transform = transforms.Compose([\n",
        "    transforms.Resize(resize_size),  # 이미지 크기 조정\n",
        "    transforms.ToTensor(),           # 이미지를 텐서로 변환\n",
        "])\n",
        "mask_transform = transforms.Compose([\n",
        "    transforms.Resize(resize_size),\n",
        "    transforms.Lambda(lambda x: torch.tensor(np.array(x)))\n",
        "])\n"
      ]
    },
    {
      "cell_type": "code",
      "execution_count": null,
      "metadata": {
        "id": "s7CWKty86onr",
        "colab": {
          "base_uri": "https://localhost:8080/"
        },
        "outputId": "d53ee012-d2e1-4d23-cef4-c0588c4927e5"
      },
      "outputs": [
        {
          "output_type": "stream",
          "name": "stderr",
          "text": [
            "/usr/local/lib/python3.10/dist-packages/torch/utils/data/dataloader.py:558: UserWarning: This DataLoader will create 4 worker processes in total. Our suggested max number of worker in current system is 2, which is smaller than what this DataLoader is going to create. Please be aware that excessive worker creation might get DataLoader running slow or even freeze, lower the worker number to avoid potential slowness/freeze if necessary.\n",
            "  warnings.warn(_create_warning_msg(\n"
          ]
        }
      ],
      "source": [
        "# 데이터셋 생성\n",
        "train_anger_dataset = CustomSegmentationDataset(train_anger_dir, anger_npz_file, transform=transform, mask_transform=mask_transform)\n",
        "train_happy_dataset = CustomSegmentationDataset(train_happy_dir, happy_npz_file, transform=transform, mask_transform=mask_transform)\n",
        "train_panic_dataset = CustomSegmentationDataset(train_panic_dir, panic_npz_file, transform=transform, mask_transform=mask_transform)\n",
        "train_sadness_dataset = CustomSegmentationDataset(train_sadness_dir, sadness_npz_file, transform=transform, mask_transform=mask_transform)\n",
        "\n",
        "val_anger_dataset = CustomSegmentationDataset(val_anger_dir, val_anger_npz_file, transform=transform, mask_transform=mask_transform)\n",
        "val_happy_dataset = CustomSegmentationDataset(val_happy_dir, val_happy_npz_file, transform=transform, mask_transform=mask_transform)\n",
        "val_panic_dataset = CustomSegmentationDataset(val_panic_dir, val_panic_npz_file, transform=transform, mask_transform=mask_transform)\n",
        "val_sadness_dataset = CustomSegmentationDataset(val_sadness_dir, val_sadness_npz_file, transform=transform, mask_transform=mask_transform)\n",
        "\n",
        "# 데이터 로더 설정\n",
        "batch_size = 4\n",
        "train_datasets = ConcatDataset([\n",
        "    train_anger_dataset,\n",
        "    train_happy_dataset,\n",
        "    train_panic_dataset,\n",
        "    train_sadness_dataset\n",
        "])\n",
        "\n",
        "# 검증 데이터셋 결합\n",
        "val_datasets = ConcatDataset([\n",
        "    val_anger_dataset,\n",
        "    val_happy_dataset,\n",
        "    val_panic_dataset,\n",
        "    val_sadness_dataset\n",
        "])\n",
        "\n",
        "# 데이터 로더 설정\n",
        "train_loader = DataLoader(train_datasets,\n",
        "                          batch_size=batch_size,\n",
        "                          shuffle=True,\n",
        "                          pin_memory=True,\n",
        "                          # prefetch_factor=1,\n",
        "                          num_workers=4)\n",
        "val_loader = DataLoader(val_datasets, batch_size=batch_size, shuffle=False, pin_memory=True,\n",
        "                        # prefetch_factor=1,\n",
        "                        num_workers=1)\n"
      ]
    },
    {
      "cell_type": "code",
      "source": [
        "def compute_iou(preds, labels, num_classes):\n",
        "    iou = []\n",
        "    preds = torch.argmax(preds, dim=1)  # Get the class with highest probability\n",
        "    for cls in range(num_classes):\n",
        "        pred_inds = (preds == cls)\n",
        "        target_inds = (labels == cls)\n",
        "        intersection = (pred_inds & target_inds).sum().float().item()\n",
        "        union = (pred_inds | target_inds).sum().float().item()\n",
        "        if union == 0:\n",
        "            iou.append(float('nan'))  # If no ground truth, do not count\n",
        "        else:\n",
        "            iou.append(intersection / union)\n",
        "    return np.nanmean(iou)\n"
      ],
      "metadata": {
        "id": "iQOwahm97mVr"
      },
      "execution_count": null,
      "outputs": []
    },
    {
      "cell_type": "code",
      "source": [
        "num_epochs = 20\n",
        "num_classes = 6\n",
        "# criterion_ce = nn.CrossEntropyLoss()\n",
        "criterion_dice = smp.losses.DiceLoss(mode='multiclass')\n",
        "optimizer = optim.Adam(model.parameters(), lr=0.001)\n",
        "\n",
        "save_dir = 'saved_models'\n",
        "if not os.path.exists(save_dir):\n",
        "    os.makedirs(save_dir)\n",
        "\n",
        "train_losses = []\n",
        "val_losses = []\n",
        "train_ious = []\n",
        "val_ious = []\n",
        "best_val_loss = float('inf')\n",
        "\n",
        "# 모델 학습\n",
        "for epoch in range(num_epochs):\n",
        "    model.train()\n",
        "    train_running_loss = 0.0\n",
        "    train_running_iou = 0.0\n",
        "\n",
        "    for inputs, labels in tqdm(train_loader, desc=f'Epoch {epoch+1}/{num_epochs}'):\n",
        "        inputs = inputs.to(device)\n",
        "        labels = labels.long().to(device)  # Ensure labels are of type Long for CrossEntropyLoss\n",
        "\n",
        "        optimizer.zero_grad()\n",
        "        outputs = model(inputs)\n",
        "        # loss_ce = criterion_ce(outputs, labels)\n",
        "        loss_dice = criterion_dice(outputs, labels)\n",
        "        # loss = loss_ce + loss_dice\n",
        "        loss = loss_dice\n",
        "        loss.backward()\n",
        "        optimizer.step()\n",
        "\n",
        "        train_running_loss += loss.item() * inputs.size(0)\n",
        "        train_running_iou += compute_iou(outputs, labels, num_classes) * inputs.size(0)\n",
        "\n",
        "    train_epoch_loss = train_running_loss / len(train_loader.dataset)\n",
        "    train_epoch_iou = train_running_iou / len(train_loader.dataset)\n",
        "\n",
        "    model.eval()\n",
        "    val_running_loss = 0.0\n",
        "    val_running_iou = 0.0\n",
        "\n",
        "    with torch.no_grad():\n",
        "        for val_inputs, val_labels in tqdm(val_loader,  desc=f'Validation'):\n",
        "            val_inputs = val_inputs.to(device)\n",
        "            val_labels = val_labels.long().to(device)\n",
        "\n",
        "            val_outputs = model(val_inputs)\n",
        "            # val_loss_ce = criterion_ce(val_outputs, val_labels)\n",
        "            val_loss_dice = criterion_dice(val_outputs, val_labels)\n",
        "            # val_loss = val_loss_ce + val_loss_dice\n",
        "\n",
        "            val_loss = val_loss_dice\n",
        "            val_running_loss += val_loss.item() * val_inputs.size(0)\n",
        "            val_running_iou += compute_iou(val_outputs, val_labels, num_classes) * val_inputs.size(0)\n",
        "\n",
        "    val_epoch_loss = val_running_loss / len(val_loader.dataset)\n",
        "    val_epoch_iou = val_running_iou / len(val_loader.dataset)\n",
        "    print(f\"Epoch [{epoch+1}/{num_epochs}], Train Loss: {train_epoch_loss:.4f}, Train IoU: {train_epoch_iou:.4f}, Validation Loss: {val_epoch_loss:.4f}, Validation IoU: {val_epoch_iou:.4f}\")\n",
        "\n",
        "    model_name = f'Unet++_model_epoch{epoch+1}.pth'\n",
        "    model_path = os.path.join(save_dir, model_name)\n",
        "    torch.save(model.state_dict(), model_path)\n",
        "\n",
        "    train_losses.append(train_epoch_loss)\n",
        "    val_losses.append(val_epoch_loss)\n",
        "    train_ious.append(train_epoch_iou)\n",
        "    val_ious.append(val_epoch_iou)"
      ],
      "metadata": {
        "colab": {
          "base_uri": "https://localhost:8080/",
          "height": 1000
        },
        "id": "BKYNU4AC6xNQ",
        "outputId": "85c80c38-d04c-4645-a3fc-982c807df092"
      },
      "execution_count": null,
      "outputs": [
        {
          "metadata": {
            "tags": null
          },
          "name": "stderr",
          "output_type": "stream",
          "text": [
            "Epoch 1/20:   0%|          | 0/1487 [00:00<?, ?it/s]/usr/local/lib/python3.10/dist-packages/torch/nn/modules/module.py:1532: UserWarning: Implicit dimension choice for softmax has been deprecated. Change the call to include dim=X as an argument.\n",
            "  return self._call_impl(*args, **kwargs)\n",
            "/usr/local/lib/python3.10/dist-packages/torch/autograd/graph.py:744: UserWarning: Plan failed with a cudnnException: CUDNN_BACKEND_EXECUTION_PLAN_DESCRIPTOR: cudnnFinalize Descriptor Failed cudnn_status: CUDNN_STATUS_NOT_SUPPORTED (Triggered internally at ../aten/src/ATen/native/cudnn/Conv_v8.cpp:919.)\n",
            "  return Variable._execution_engine.run_backward(  # Calls into the C++ engine to run the backward pass\n",
            "Epoch 1/20: 100%|██████████| 1487/1487 [33:24<00:00,  1.35s/it]\n",
            "Validation: 100%|██████████| 300/300 [05:35<00:00,  1.12s/it]\n"
          ]
        },
        {
          "metadata": {
            "tags": null
          },
          "name": "stdout",
          "output_type": "stream",
          "text": [
            "Epoch [1/20], Train Loss: 0.7394, Train IoU: 0.6731, Validation Loss: 0.7400, Validation IoU: 0.7093\n"
          ]
        },
        {
          "metadata": {
            "tags": null
          },
          "name": "stderr",
          "output_type": "stream",
          "text": [
            "Epoch 2/20: 100%|██████████| 1487/1487 [33:03<00:00,  1.33s/it]\n",
            "Validation: 100%|██████████| 300/300 [05:52<00:00,  1.17s/it]\n"
          ]
        },
        {
          "metadata": {
            "tags": null
          },
          "name": "stdout",
          "output_type": "stream",
          "text": [
            "Epoch [2/20], Train Loss: 0.7344, Train IoU: 0.7329, Validation Loss: 0.7375, Validation IoU: 0.7419\n"
          ]
        },
        {
          "metadata": {
            "tags": null
          },
          "name": "stderr",
          "output_type": "stream",
          "text": [
            "Epoch 3/20: 100%|██████████| 1487/1487 [33:10<00:00,  1.34s/it]\n",
            "Validation: 100%|██████████| 300/300 [08:01<00:00,  1.61s/it]\n"
          ]
        },
        {
          "metadata": {
            "tags": null
          },
          "name": "stdout",
          "output_type": "stream",
          "text": [
            "Epoch [3/20], Train Loss: 0.7341, Train IoU: 0.7398, Validation Loss: 0.7388, Validation IoU: 0.7289\n"
          ]
        },
        {
          "metadata": {
            "tags": null
          },
          "name": "stderr",
          "output_type": "stream",
          "text": [
            "Epoch 4/20: 100%|██████████| 1487/1487 [33:14<00:00,  1.34s/it]\n",
            "Validation: 100%|██████████| 300/300 [05:34<00:00,  1.11s/it]\n"
          ]
        },
        {
          "metadata": {
            "tags": null
          },
          "name": "stdout",
          "output_type": "stream",
          "text": [
            "Epoch [4/20], Train Loss: 0.7333, Train IoU: 0.7490, Validation Loss: 0.7365, Validation IoU: 0.7497\n"
          ]
        },
        {
          "metadata": {
            "tags": null
          },
          "name": "stderr",
          "output_type": "stream",
          "text": [
            "Epoch 5/20: 100%|██████████| 1487/1487 [32:54<00:00,  1.33s/it]\n",
            "Validation: 100%|██████████| 300/300 [05:38<00:00,  1.13s/it]\n"
          ]
        },
        {
          "metadata": {
            "tags": null
          },
          "name": "stdout",
          "output_type": "stream",
          "text": [
            "Epoch [5/20], Train Loss: 0.7342, Train IoU: 0.7490, Validation Loss: 0.7359, Validation IoU: 0.7575\n"
          ]
        },
        {
          "metadata": {
            "tags": null
          },
          "name": "stderr",
          "output_type": "stream",
          "text": [
            "Epoch 6/20: 100%|██████████| 1487/1487 [32:55<00:00,  1.33s/it]\n",
            "Validation: 100%|██████████| 300/300 [05:33<00:00,  1.11s/it]\n"
          ]
        },
        {
          "metadata": {
            "tags": null
          },
          "name": "stdout",
          "output_type": "stream",
          "text": [
            "Epoch [6/20], Train Loss: 0.7318, Train IoU: 0.7558, Validation Loss: 0.7380, Validation IoU: 0.7276\n"
          ]
        },
        {
          "metadata": {
            "tags": null
          },
          "name": "stderr",
          "output_type": "stream",
          "text": [
            "Epoch 7/20: 100%|██████████| 1487/1487 [36:05<00:00,  1.46s/it]\n",
            "Validation: 100%|██████████| 300/300 [06:32<00:00,  1.31s/it]\n"
          ]
        },
        {
          "metadata": {
            "tags": null
          },
          "name": "stdout",
          "output_type": "stream",
          "text": [
            "Epoch [7/20], Train Loss: 0.7337, Train IoU: 0.7578, Validation Loss: 0.7364, Validation IoU: 0.7394\n"
          ]
        },
        {
          "metadata": {
            "tags": null
          },
          "name": "stderr",
          "output_type": "stream",
          "text": [
            "Epoch 8/20: 100%|██████████| 1487/1487 [32:53<00:00,  1.33s/it]\n",
            "Validation: 100%|██████████| 300/300 [05:34<00:00,  1.12s/it]\n"
          ]
        },
        {
          "metadata": {
            "tags": null
          },
          "name": "stdout",
          "output_type": "stream",
          "text": [
            "Epoch [8/20], Train Loss: 0.7302, Train IoU: 0.7637, Validation Loss: 0.7364, Validation IoU: 0.7474\n"
          ]
        },
        {
          "output_type": "stream",
          "name": "stderr",
          "text": [
            "Epoch 9/20:  96%|█████████▌| 1422/1487 [31:28<01:26,  1.33s/it]\n"
          ]
        },
        {
          "output_type": "error",
          "ename": "error",
          "evalue": "Caught error in DataLoader worker process 2.\nOriginal Traceback (most recent call last):\n  File \"/usr/local/lib/python3.10/dist-packages/torch/utils/data/_utils/worker.py\", line 308, in _worker_loop\n    data = fetcher.fetch(index)  # type: ignore[possibly-undefined]\n  File \"/usr/local/lib/python3.10/dist-packages/torch/utils/data/_utils/fetch.py\", line 51, in fetch\n    data = [self.dataset[idx] for idx in possibly_batched_index]\n  File \"/usr/local/lib/python3.10/dist-packages/torch/utils/data/_utils/fetch.py\", line 51, in <listcomp>\n    data = [self.dataset[idx] for idx in possibly_batched_index]\n  File \"/usr/local/lib/python3.10/dist-packages/torch/utils/data/dataset.py\", line 348, in __getitem__\n    return self.datasets[dataset_idx][sample_idx]\n  File \"<ipython-input-10-3f34aa09d625>\", line 16, in __getitem__\n    image = cv2.cvtColor(image, cv2.COLOR_BGR2RGB)\ncv2.error: OpenCV(4.8.0) /io/opencv/modules/imgproc/src/color.cpp:182: error: (-215:Assertion failed) !_src.empty() in function 'cvtColor'\n\n",
          "traceback": [
            "\u001b[0;31m---------------------------------------------------------------------------\u001b[0m",
            "\u001b[0;31merror\u001b[0m                                     Traceback (most recent call last)",
            "\u001b[0;32m<ipython-input-14-4460fb381c40>\u001b[0m in \u001b[0;36m<cell line: 18>\u001b[0;34m()\u001b[0m\n\u001b[1;32m     21\u001b[0m     \u001b[0mtrain_running_iou\u001b[0m \u001b[0;34m=\u001b[0m \u001b[0;36m0.0\u001b[0m\u001b[0;34m\u001b[0m\u001b[0;34m\u001b[0m\u001b[0m\n\u001b[1;32m     22\u001b[0m \u001b[0;34m\u001b[0m\u001b[0m\n\u001b[0;32m---> 23\u001b[0;31m     \u001b[0;32mfor\u001b[0m \u001b[0minputs\u001b[0m\u001b[0;34m,\u001b[0m \u001b[0mlabels\u001b[0m \u001b[0;32min\u001b[0m \u001b[0mtqdm\u001b[0m\u001b[0;34m(\u001b[0m\u001b[0mtrain_loader\u001b[0m\u001b[0;34m,\u001b[0m \u001b[0mdesc\u001b[0m\u001b[0;34m=\u001b[0m\u001b[0;34mf'Epoch {epoch+1}/{num_epochs}'\u001b[0m\u001b[0;34m)\u001b[0m\u001b[0;34m:\u001b[0m\u001b[0;34m\u001b[0m\u001b[0;34m\u001b[0m\u001b[0m\n\u001b[0m\u001b[1;32m     24\u001b[0m         \u001b[0minputs\u001b[0m \u001b[0;34m=\u001b[0m \u001b[0minputs\u001b[0m\u001b[0;34m.\u001b[0m\u001b[0mto\u001b[0m\u001b[0;34m(\u001b[0m\u001b[0mdevice\u001b[0m\u001b[0;34m)\u001b[0m\u001b[0;34m\u001b[0m\u001b[0;34m\u001b[0m\u001b[0m\n\u001b[1;32m     25\u001b[0m         \u001b[0mlabels\u001b[0m \u001b[0;34m=\u001b[0m \u001b[0mlabels\u001b[0m\u001b[0;34m.\u001b[0m\u001b[0mlong\u001b[0m\u001b[0;34m(\u001b[0m\u001b[0;34m)\u001b[0m\u001b[0;34m.\u001b[0m\u001b[0mto\u001b[0m\u001b[0;34m(\u001b[0m\u001b[0mdevice\u001b[0m\u001b[0;34m)\u001b[0m  \u001b[0;31m# Ensure labels are of type Long for CrossEntropyLoss\u001b[0m\u001b[0;34m\u001b[0m\u001b[0;34m\u001b[0m\u001b[0m\n",
            "\u001b[0;32m/usr/local/lib/python3.10/dist-packages/tqdm/std.py\u001b[0m in \u001b[0;36m__iter__\u001b[0;34m(self)\u001b[0m\n\u001b[1;32m   1179\u001b[0m \u001b[0;34m\u001b[0m\u001b[0m\n\u001b[1;32m   1180\u001b[0m         \u001b[0;32mtry\u001b[0m\u001b[0;34m:\u001b[0m\u001b[0;34m\u001b[0m\u001b[0;34m\u001b[0m\u001b[0m\n\u001b[0;32m-> 1181\u001b[0;31m             \u001b[0;32mfor\u001b[0m \u001b[0mobj\u001b[0m \u001b[0;32min\u001b[0m \u001b[0miterable\u001b[0m\u001b[0;34m:\u001b[0m\u001b[0;34m\u001b[0m\u001b[0;34m\u001b[0m\u001b[0m\n\u001b[0m\u001b[1;32m   1182\u001b[0m                 \u001b[0;32myield\u001b[0m \u001b[0mobj\u001b[0m\u001b[0;34m\u001b[0m\u001b[0;34m\u001b[0m\u001b[0m\n\u001b[1;32m   1183\u001b[0m                 \u001b[0;31m# Update and possibly print the progressbar.\u001b[0m\u001b[0;34m\u001b[0m\u001b[0;34m\u001b[0m\u001b[0m\n",
            "\u001b[0;32m/usr/local/lib/python3.10/dist-packages/torch/utils/data/dataloader.py\u001b[0m in \u001b[0;36m__next__\u001b[0;34m(self)\u001b[0m\n\u001b[1;32m    629\u001b[0m                 \u001b[0;31m# TODO(https://github.com/pytorch/pytorch/issues/76750)\u001b[0m\u001b[0;34m\u001b[0m\u001b[0;34m\u001b[0m\u001b[0m\n\u001b[1;32m    630\u001b[0m                 \u001b[0mself\u001b[0m\u001b[0;34m.\u001b[0m\u001b[0m_reset\u001b[0m\u001b[0;34m(\u001b[0m\u001b[0;34m)\u001b[0m  \u001b[0;31m# type: ignore[call-arg]\u001b[0m\u001b[0;34m\u001b[0m\u001b[0;34m\u001b[0m\u001b[0m\n\u001b[0;32m--> 631\u001b[0;31m             \u001b[0mdata\u001b[0m \u001b[0;34m=\u001b[0m \u001b[0mself\u001b[0m\u001b[0;34m.\u001b[0m\u001b[0m_next_data\u001b[0m\u001b[0;34m(\u001b[0m\u001b[0;34m)\u001b[0m\u001b[0;34m\u001b[0m\u001b[0;34m\u001b[0m\u001b[0m\n\u001b[0m\u001b[1;32m    632\u001b[0m             \u001b[0mself\u001b[0m\u001b[0;34m.\u001b[0m\u001b[0m_num_yielded\u001b[0m \u001b[0;34m+=\u001b[0m \u001b[0;36m1\u001b[0m\u001b[0;34m\u001b[0m\u001b[0;34m\u001b[0m\u001b[0m\n\u001b[1;32m    633\u001b[0m             \u001b[0;32mif\u001b[0m \u001b[0mself\u001b[0m\u001b[0;34m.\u001b[0m\u001b[0m_dataset_kind\u001b[0m \u001b[0;34m==\u001b[0m \u001b[0m_DatasetKind\u001b[0m\u001b[0;34m.\u001b[0m\u001b[0mIterable\u001b[0m \u001b[0;32mand\u001b[0m\u001b[0;31m \u001b[0m\u001b[0;31m\\\u001b[0m\u001b[0;34m\u001b[0m\u001b[0;34m\u001b[0m\u001b[0m\n",
            "\u001b[0;32m/usr/local/lib/python3.10/dist-packages/torch/utils/data/dataloader.py\u001b[0m in \u001b[0;36m_next_data\u001b[0;34m(self)\u001b[0m\n\u001b[1;32m   1344\u001b[0m             \u001b[0;32melse\u001b[0m\u001b[0;34m:\u001b[0m\u001b[0;34m\u001b[0m\u001b[0;34m\u001b[0m\u001b[0m\n\u001b[1;32m   1345\u001b[0m                 \u001b[0;32mdel\u001b[0m \u001b[0mself\u001b[0m\u001b[0;34m.\u001b[0m\u001b[0m_task_info\u001b[0m\u001b[0;34m[\u001b[0m\u001b[0midx\u001b[0m\u001b[0;34m]\u001b[0m\u001b[0;34m\u001b[0m\u001b[0;34m\u001b[0m\u001b[0m\n\u001b[0;32m-> 1346\u001b[0;31m                 \u001b[0;32mreturn\u001b[0m \u001b[0mself\u001b[0m\u001b[0;34m.\u001b[0m\u001b[0m_process_data\u001b[0m\u001b[0;34m(\u001b[0m\u001b[0mdata\u001b[0m\u001b[0;34m)\u001b[0m\u001b[0;34m\u001b[0m\u001b[0;34m\u001b[0m\u001b[0m\n\u001b[0m\u001b[1;32m   1347\u001b[0m \u001b[0;34m\u001b[0m\u001b[0m\n\u001b[1;32m   1348\u001b[0m     \u001b[0;32mdef\u001b[0m \u001b[0m_try_put_index\u001b[0m\u001b[0;34m(\u001b[0m\u001b[0mself\u001b[0m\u001b[0;34m)\u001b[0m\u001b[0;34m:\u001b[0m\u001b[0;34m\u001b[0m\u001b[0;34m\u001b[0m\u001b[0m\n",
            "\u001b[0;32m/usr/local/lib/python3.10/dist-packages/torch/utils/data/dataloader.py\u001b[0m in \u001b[0;36m_process_data\u001b[0;34m(self, data)\u001b[0m\n\u001b[1;32m   1370\u001b[0m         \u001b[0mself\u001b[0m\u001b[0;34m.\u001b[0m\u001b[0m_try_put_index\u001b[0m\u001b[0;34m(\u001b[0m\u001b[0;34m)\u001b[0m\u001b[0;34m\u001b[0m\u001b[0;34m\u001b[0m\u001b[0m\n\u001b[1;32m   1371\u001b[0m         \u001b[0;32mif\u001b[0m \u001b[0misinstance\u001b[0m\u001b[0;34m(\u001b[0m\u001b[0mdata\u001b[0m\u001b[0;34m,\u001b[0m \u001b[0mExceptionWrapper\u001b[0m\u001b[0;34m)\u001b[0m\u001b[0;34m:\u001b[0m\u001b[0;34m\u001b[0m\u001b[0;34m\u001b[0m\u001b[0m\n\u001b[0;32m-> 1372\u001b[0;31m             \u001b[0mdata\u001b[0m\u001b[0;34m.\u001b[0m\u001b[0mreraise\u001b[0m\u001b[0;34m(\u001b[0m\u001b[0;34m)\u001b[0m\u001b[0;34m\u001b[0m\u001b[0;34m\u001b[0m\u001b[0m\n\u001b[0m\u001b[1;32m   1373\u001b[0m         \u001b[0;32mreturn\u001b[0m \u001b[0mdata\u001b[0m\u001b[0;34m\u001b[0m\u001b[0;34m\u001b[0m\u001b[0m\n\u001b[1;32m   1374\u001b[0m \u001b[0;34m\u001b[0m\u001b[0m\n",
            "\u001b[0;32m/usr/local/lib/python3.10/dist-packages/torch/_utils.py\u001b[0m in \u001b[0;36mreraise\u001b[0;34m(self)\u001b[0m\n\u001b[1;32m    703\u001b[0m             \u001b[0;31m# instantiate since we don't know how to\u001b[0m\u001b[0;34m\u001b[0m\u001b[0;34m\u001b[0m\u001b[0m\n\u001b[1;32m    704\u001b[0m             \u001b[0;32mraise\u001b[0m \u001b[0mRuntimeError\u001b[0m\u001b[0;34m(\u001b[0m\u001b[0mmsg\u001b[0m\u001b[0;34m)\u001b[0m \u001b[0;32mfrom\u001b[0m \u001b[0;32mNone\u001b[0m\u001b[0;34m\u001b[0m\u001b[0;34m\u001b[0m\u001b[0m\n\u001b[0;32m--> 705\u001b[0;31m         \u001b[0;32mraise\u001b[0m \u001b[0mexception\u001b[0m\u001b[0;34m\u001b[0m\u001b[0;34m\u001b[0m\u001b[0m\n\u001b[0m\u001b[1;32m    706\u001b[0m \u001b[0;34m\u001b[0m\u001b[0m\n\u001b[1;32m    707\u001b[0m \u001b[0;34m\u001b[0m\u001b[0m\n",
            "\u001b[0;31merror\u001b[0m: Caught error in DataLoader worker process 2.\nOriginal Traceback (most recent call last):\n  File \"/usr/local/lib/python3.10/dist-packages/torch/utils/data/_utils/worker.py\", line 308, in _worker_loop\n    data = fetcher.fetch(index)  # type: ignore[possibly-undefined]\n  File \"/usr/local/lib/python3.10/dist-packages/torch/utils/data/_utils/fetch.py\", line 51, in fetch\n    data = [self.dataset[idx] for idx in possibly_batched_index]\n  File \"/usr/local/lib/python3.10/dist-packages/torch/utils/data/_utils/fetch.py\", line 51, in <listcomp>\n    data = [self.dataset[idx] for idx in possibly_batched_index]\n  File \"/usr/local/lib/python3.10/dist-packages/torch/utils/data/dataset.py\", line 348, in __getitem__\n    return self.datasets[dataset_idx][sample_idx]\n  File \"<ipython-input-10-3f34aa09d625>\", line 16, in __getitem__\n    image = cv2.cvtColor(image, cv2.COLOR_BGR2RGB)\ncv2.error: OpenCV(4.8.0) /io/opencv/modules/imgproc/src/color.cpp:182: error: (-215:Assertion failed) !_src.empty() in function 'cvtColor'\n\n"
          ]
        }
      ]
    },
    {
      "cell_type": "code",
      "source": [
        "#  for val_inputs, val_labels in tqdm(val_loader,  desc=f'Validation'):\n",
        "#             val_inputs = val_inputs.to(device)\n",
        "#             val_labels = val_labels.long().to(device)"
      ],
      "metadata": {
        "id": "ve3BxmVMxJLk"
      },
      "execution_count": null,
      "outputs": []
    },
    {
      "cell_type": "code",
      "source": [],
      "metadata": {
        "id": "RETb9XCUyuFd"
      },
      "execution_count": null,
      "outputs": []
    }
  ]
}